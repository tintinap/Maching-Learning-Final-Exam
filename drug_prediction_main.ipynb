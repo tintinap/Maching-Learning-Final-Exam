{
  "nbformat": 4,
  "nbformat_minor": 0,
  "metadata": {
    "colab": {
      "name": "drug_prediction_main.ipynb",
      "provenance": [],
      "collapsed_sections": [],
      "authorship_tag": "ABX9TyPOLr1PKp2CBVe3l3pSvBRo",
      "include_colab_link": true
    },
    "kernelspec": {
      "name": "python3",
      "display_name": "Python 3"
    },
    "language_info": {
      "name": "python"
    }
  },
  "cells": [
    {
      "cell_type": "markdown",
      "metadata": {
        "id": "view-in-github",
        "colab_type": "text"
      },
      "source": [
        "<a href=\"https://colab.research.google.com/github/tintinap/Maching-Learning-Final-Exam/blob/main/drug_prediction_main.ipynb\" target=\"_parent\"><img src=\"https://colab.research.google.com/assets/colab-badge.svg\" alt=\"Open In Colab\"/></a>"
      ]
    },
    {
      "cell_type": "code",
      "metadata": {
        "id": "MSqlbhkc2zMK"
      },
      "source": [
        "#import\n",
        "import pandas as pd\n",
        "import numpy as np"
      ],
      "execution_count": 1,
      "outputs": []
    },
    {
      "cell_type": "code",
      "metadata": {
        "colab": {
          "base_uri": "https://localhost:8080/",
          "height": 197
        },
        "id": "XgBj6i6f3JqJ",
        "outputId": "0c1b02f7-f445-449f-9157-744633e6215e"
      },
      "source": [
        "data = pd.read_csv('https://raw.githubusercontent.com/tintinap/Maching-Learning-Final-Exam/main/dataset/drug_prediction/drug200.csv')\n",
        "data.head()"
      ],
      "execution_count": 2,
      "outputs": [
        {
          "output_type": "execute_result",
          "data": {
            "text/html": [
              "<div>\n",
              "<style scoped>\n",
              "    .dataframe tbody tr th:only-of-type {\n",
              "        vertical-align: middle;\n",
              "    }\n",
              "\n",
              "    .dataframe tbody tr th {\n",
              "        vertical-align: top;\n",
              "    }\n",
              "\n",
              "    .dataframe thead th {\n",
              "        text-align: right;\n",
              "    }\n",
              "</style>\n",
              "<table border=\"1\" class=\"dataframe\">\n",
              "  <thead>\n",
              "    <tr style=\"text-align: right;\">\n",
              "      <th></th>\n",
              "      <th>Age</th>\n",
              "      <th>Sex</th>\n",
              "      <th>BP</th>\n",
              "      <th>Cholesterol</th>\n",
              "      <th>Na_to_K</th>\n",
              "      <th>Drug</th>\n",
              "    </tr>\n",
              "  </thead>\n",
              "  <tbody>\n",
              "    <tr>\n",
              "      <th>0</th>\n",
              "      <td>23</td>\n",
              "      <td>F</td>\n",
              "      <td>HIGH</td>\n",
              "      <td>HIGH</td>\n",
              "      <td>25.355</td>\n",
              "      <td>DrugY</td>\n",
              "    </tr>\n",
              "    <tr>\n",
              "      <th>1</th>\n",
              "      <td>47</td>\n",
              "      <td>M</td>\n",
              "      <td>LOW</td>\n",
              "      <td>HIGH</td>\n",
              "      <td>13.093</td>\n",
              "      <td>drugC</td>\n",
              "    </tr>\n",
              "    <tr>\n",
              "      <th>2</th>\n",
              "      <td>47</td>\n",
              "      <td>M</td>\n",
              "      <td>LOW</td>\n",
              "      <td>HIGH</td>\n",
              "      <td>10.114</td>\n",
              "      <td>drugC</td>\n",
              "    </tr>\n",
              "    <tr>\n",
              "      <th>3</th>\n",
              "      <td>28</td>\n",
              "      <td>F</td>\n",
              "      <td>NORMAL</td>\n",
              "      <td>HIGH</td>\n",
              "      <td>7.798</td>\n",
              "      <td>drugX</td>\n",
              "    </tr>\n",
              "    <tr>\n",
              "      <th>4</th>\n",
              "      <td>61</td>\n",
              "      <td>F</td>\n",
              "      <td>LOW</td>\n",
              "      <td>HIGH</td>\n",
              "      <td>18.043</td>\n",
              "      <td>DrugY</td>\n",
              "    </tr>\n",
              "  </tbody>\n",
              "</table>\n",
              "</div>"
            ],
            "text/plain": [
              "   Age Sex      BP Cholesterol  Na_to_K   Drug\n",
              "0   23   F    HIGH        HIGH   25.355  DrugY\n",
              "1   47   M     LOW        HIGH   13.093  drugC\n",
              "2   47   M     LOW        HIGH   10.114  drugC\n",
              "3   28   F  NORMAL        HIGH    7.798  drugX\n",
              "4   61   F     LOW        HIGH   18.043  DrugY"
            ]
          },
          "metadata": {
            "tags": []
          },
          "execution_count": 2
        }
      ]
    },
    {
      "cell_type": "markdown",
      "metadata": {
        "id": "kM-ghiEa4m9B"
      },
      "source": [
        "**Content**\n",
        "\n",
        "The target feature is\n",
        "*   Drug type\n",
        "\n",
        "The feature sets are:\n",
        "\n",
        "*   Age\n",
        "*   Sex\n",
        "*   Blood Pressure Levels (BP)\n",
        "*   Cholesterol Levels\n",
        "*   Na to Potassium Ration\n",
        "\n",
        "\n"
      ]
    },
    {
      "cell_type": "markdown",
      "metadata": {
        "id": "G-cPgrxk6CkA"
      },
      "source": [
        "**<H1> Preprocessing**"
      ]
    },
    {
      "cell_type": "code",
      "metadata": {
        "id": "j-ybe7Ir6ZGE"
      },
      "source": [
        "# get preprocess_input_mental function from preprocessing.py in colab\n",
        "# if wanna edit hv to edit in preprocessing.py\n",
        "\n",
        "#colab file path\n",
        "%run '/content/function/preprocessing.py'\n",
        "## import preprocess_input_drug(df)"
      ],
      "execution_count": 3,
      "outputs": []
    },
    {
      "cell_type": "markdown",
      "metadata": {
        "id": "eALSeDcX6Z04"
      },
      "source": [
        "<h2> Pre-preprocssing Result- check fore preprocessing\n"
      ]
    },
    {
      "cell_type": "code",
      "metadata": {
        "colab": {
          "base_uri": "https://localhost:8080/"
        },
        "id": "MT8DIxC03YuQ",
        "outputId": "b5ce07cf-abea-4e45-fda6-19e72edcb4ff"
      },
      "source": [
        "#no missing values\n",
        "data.info()"
      ],
      "execution_count": 4,
      "outputs": [
        {
          "output_type": "stream",
          "text": [
            "<class 'pandas.core.frame.DataFrame'>\n",
            "RangeIndex: 200 entries, 0 to 199\n",
            "Data columns (total 6 columns):\n",
            " #   Column       Non-Null Count  Dtype  \n",
            "---  ------       --------------  -----  \n",
            " 0   Age          200 non-null    int64  \n",
            " 1   Sex          200 non-null    object \n",
            " 2   BP           200 non-null    object \n",
            " 3   Cholesterol  200 non-null    object \n",
            " 4   Na_to_K      200 non-null    float64\n",
            " 5   Drug         200 non-null    object \n",
            "dtypes: float64(1), int64(1), object(4)\n",
            "memory usage: 9.5+ KB\n"
          ],
          "name": "stdout"
        }
      ]
    },
    {
      "cell_type": "markdown",
      "metadata": {
        "id": "Ka-mCQDp58ZG"
      },
      "source": [
        "<h3> Check unique"
      ]
    },
    {
      "cell_type": "code",
      "metadata": {
        "colab": {
          "base_uri": "https://localhost:8080/"
        },
        "id": "pLGdFxZB39sO",
        "outputId": "a41edfcc-b6f5-42ba-c8c2-842d682536b5"
      },
      "source": [
        "{column : len(data[column].unique()) for column in data.columns}"
      ],
      "execution_count": 5,
      "outputs": [
        {
          "output_type": "execute_result",
          "data": {
            "text/plain": [
              "{'Age': 57, 'BP': 3, 'Cholesterol': 2, 'Drug': 5, 'Na_to_K': 198, 'Sex': 2}"
            ]
          },
          "metadata": {
            "tags": []
          },
          "execution_count": 5
        }
      ]
    },
    {
      "cell_type": "code",
      "metadata": {
        "colab": {
          "base_uri": "https://localhost:8080/"
        },
        "id": "44rZUy_y5UKo",
        "outputId": "67aa4029-4be1-441a-d6da-5f9a96ebf5d4"
      },
      "source": [
        "data['Cholesterol'].unique()"
      ],
      "execution_count": 6,
      "outputs": [
        {
          "output_type": "execute_result",
          "data": {
            "text/plain": [
              "array(['HIGH', 'NORMAL'], dtype=object)"
            ]
          },
          "metadata": {
            "tags": []
          },
          "execution_count": 6
        }
      ]
    },
    {
      "cell_type": "code",
      "metadata": {
        "colab": {
          "base_uri": "https://localhost:8080/"
        },
        "id": "y2MoCBUX5d5o",
        "outputId": "d5f181ea-fc31-45e2-d00c-e34cf0ec50b2"
      },
      "source": [
        "data['Sex'].unique()"
      ],
      "execution_count": 7,
      "outputs": [
        {
          "output_type": "execute_result",
          "data": {
            "text/plain": [
              "array(['F', 'M'], dtype=object)"
            ]
          },
          "metadata": {
            "tags": []
          },
          "execution_count": 7
        }
      ]
    },
    {
      "cell_type": "code",
      "metadata": {
        "colab": {
          "base_uri": "https://localhost:8080/"
        },
        "id": "dwvxS9YS5drY",
        "outputId": "65c4d470-6fea-4915-a1d7-c0e46a52c95a"
      },
      "source": [
        "data['BP'].unique()"
      ],
      "execution_count": 8,
      "outputs": [
        {
          "output_type": "execute_result",
          "data": {
            "text/plain": [
              "array(['HIGH', 'LOW', 'NORMAL'], dtype=object)"
            ]
          },
          "metadata": {
            "tags": []
          },
          "execution_count": 8
        }
      ]
    },
    {
      "cell_type": "code",
      "metadata": {
        "colab": {
          "base_uri": "https://localhost:8080/"
        },
        "id": "Lbi4FPV95uqw",
        "outputId": "b209e1c4-00d9-4a2b-888f-275e9b9f0c6e"
      },
      "source": [
        "data['Drug'].unique()"
      ],
      "execution_count": 9,
      "outputs": [
        {
          "output_type": "execute_result",
          "data": {
            "text/plain": [
              "array(['DrugY', 'drugC', 'drugX', 'drugA', 'drugB'], dtype=object)"
            ]
          },
          "metadata": {
            "tags": []
          },
          "execution_count": 9
        }
      ]
    },
    {
      "cell_type": "markdown",
      "metadata": {
        "id": "TpNOSgvG6Pyh"
      },
      "source": [
        "<h2> Preprocessing result"
      ]
    },
    {
      "cell_type": "code",
      "metadata": {
        "colab": {
          "base_uri": "https://localhost:8080/",
          "height": 406
        },
        "id": "VXMrrfdn3r3i",
        "outputId": "9c67d9df-79e1-446a-d030-2f6464193224"
      },
      "source": [
        "df = preprocessing_input_drug(data)\n",
        "df"
      ],
      "execution_count": 10,
      "outputs": [
        {
          "output_type": "execute_result",
          "data": {
            "text/html": [
              "<div>\n",
              "<style scoped>\n",
              "    .dataframe tbody tr th:only-of-type {\n",
              "        vertical-align: middle;\n",
              "    }\n",
              "\n",
              "    .dataframe tbody tr th {\n",
              "        vertical-align: top;\n",
              "    }\n",
              "\n",
              "    .dataframe thead th {\n",
              "        text-align: right;\n",
              "    }\n",
              "</style>\n",
              "<table border=\"1\" class=\"dataframe\">\n",
              "  <thead>\n",
              "    <tr style=\"text-align: right;\">\n",
              "      <th></th>\n",
              "      <th>Age</th>\n",
              "      <th>Sex</th>\n",
              "      <th>BP</th>\n",
              "      <th>Cholesterol</th>\n",
              "      <th>Na_to_K</th>\n",
              "      <th>Drug</th>\n",
              "    </tr>\n",
              "  </thead>\n",
              "  <tbody>\n",
              "    <tr>\n",
              "      <th>0</th>\n",
              "      <td>0.135593</td>\n",
              "      <td>0.0</td>\n",
              "      <td>1.0</td>\n",
              "      <td>1.0</td>\n",
              "      <td>0.596848</td>\n",
              "      <td>4</td>\n",
              "    </tr>\n",
              "    <tr>\n",
              "      <th>1</th>\n",
              "      <td>0.542373</td>\n",
              "      <td>1.0</td>\n",
              "      <td>0.0</td>\n",
              "      <td>1.0</td>\n",
              "      <td>0.213397</td>\n",
              "      <td>2</td>\n",
              "    </tr>\n",
              "    <tr>\n",
              "      <th>2</th>\n",
              "      <td>0.542373</td>\n",
              "      <td>1.0</td>\n",
              "      <td>0.0</td>\n",
              "      <td>1.0</td>\n",
              "      <td>0.120239</td>\n",
              "      <td>2</td>\n",
              "    </tr>\n",
              "    <tr>\n",
              "      <th>3</th>\n",
              "      <td>0.220339</td>\n",
              "      <td>0.0</td>\n",
              "      <td>0.5</td>\n",
              "      <td>1.0</td>\n",
              "      <td>0.047814</td>\n",
              "      <td>3</td>\n",
              "    </tr>\n",
              "    <tr>\n",
              "      <th>4</th>\n",
              "      <td>0.779661</td>\n",
              "      <td>0.0</td>\n",
              "      <td>0.0</td>\n",
              "      <td>1.0</td>\n",
              "      <td>0.368191</td>\n",
              "      <td>4</td>\n",
              "    </tr>\n",
              "    <tr>\n",
              "      <th>...</th>\n",
              "      <td>...</td>\n",
              "      <td>...</td>\n",
              "      <td>...</td>\n",
              "      <td>...</td>\n",
              "      <td>...</td>\n",
              "      <td>...</td>\n",
              "    </tr>\n",
              "    <tr>\n",
              "      <th>195</th>\n",
              "      <td>0.694915</td>\n",
              "      <td>0.0</td>\n",
              "      <td>0.0</td>\n",
              "      <td>1.0</td>\n",
              "      <td>0.165676</td>\n",
              "      <td>2</td>\n",
              "    </tr>\n",
              "    <tr>\n",
              "      <th>196</th>\n",
              "      <td>0.016949</td>\n",
              "      <td>1.0</td>\n",
              "      <td>0.0</td>\n",
              "      <td>1.0</td>\n",
              "      <td>0.179405</td>\n",
              "      <td>2</td>\n",
              "    </tr>\n",
              "    <tr>\n",
              "      <th>197</th>\n",
              "      <td>0.627119</td>\n",
              "      <td>1.0</td>\n",
              "      <td>0.5</td>\n",
              "      <td>1.0</td>\n",
              "      <td>0.113359</td>\n",
              "      <td>3</td>\n",
              "    </tr>\n",
              "    <tr>\n",
              "      <th>198</th>\n",
              "      <td>0.135593</td>\n",
              "      <td>1.0</td>\n",
              "      <td>0.5</td>\n",
              "      <td>0.0</td>\n",
              "      <td>0.242385</td>\n",
              "      <td>3</td>\n",
              "    </tr>\n",
              "    <tr>\n",
              "      <th>199</th>\n",
              "      <td>0.423729</td>\n",
              "      <td>0.0</td>\n",
              "      <td>0.0</td>\n",
              "      <td>0.0</td>\n",
              "      <td>0.158859</td>\n",
              "      <td>3</td>\n",
              "    </tr>\n",
              "  </tbody>\n",
              "</table>\n",
              "<p>200 rows × 6 columns</p>\n",
              "</div>"
            ],
            "text/plain": [
              "          Age  Sex   BP  Cholesterol   Na_to_K  Drug\n",
              "0    0.135593  0.0  1.0          1.0  0.596848     4\n",
              "1    0.542373  1.0  0.0          1.0  0.213397     2\n",
              "2    0.542373  1.0  0.0          1.0  0.120239     2\n",
              "3    0.220339  0.0  0.5          1.0  0.047814     3\n",
              "4    0.779661  0.0  0.0          1.0  0.368191     4\n",
              "..        ...  ...  ...          ...       ...   ...\n",
              "195  0.694915  0.0  0.0          1.0  0.165676     2\n",
              "196  0.016949  1.0  0.0          1.0  0.179405     2\n",
              "197  0.627119  1.0  0.5          1.0  0.113359     3\n",
              "198  0.135593  1.0  0.5          0.0  0.242385     3\n",
              "199  0.423729  0.0  0.0          0.0  0.158859     3\n",
              "\n",
              "[200 rows x 6 columns]"
            ]
          },
          "metadata": {
            "tags": []
          },
          "execution_count": 10
        }
      ]
    },
    {
      "cell_type": "markdown",
      "metadata": {
        "id": "CvSkJCxC9Oxy"
      },
      "source": [
        "<h2> list dataframe train,test (0.8:0.2)"
      ]
    },
    {
      "cell_type": "code",
      "metadata": {
        "colab": {
          "base_uri": "https://localhost:8080/"
        },
        "id": "JWzsCKos85rE",
        "outputId": "a1dc91d7-1a49-4fcc-df92-c9635bd0c781"
      },
      "source": [
        "df_list = df.values.tolist()\n",
        "for i in range(len(df_list)):\n",
        "    df_list[i][-1] = int(df_list[i][-1])\n",
        "\n",
        "df_list[:5]"
      ],
      "execution_count": 11,
      "outputs": [
        {
          "output_type": "execute_result",
          "data": {
            "text/plain": [
              "[[0.13559322033898305, 0.0, 1.0, 1.0, 0.5968478328851085, 4],\n",
              " [0.5423728813559322, 1.0, 0.0, 1.0, 0.2133967102382888, 2],\n",
              " [0.5423728813559322, 1.0, 0.0, 1.0, 0.12023891425354927, 2],\n",
              " [0.22033898305084745, 0.0, 0.5, 1.0, 0.04781412220901867, 3],\n",
              " [0.7796610169491526, 0.0, 0.0, 1.0, 0.3681906310588529, 4]]"
            ]
          },
          "metadata": {
            "tags": []
          },
          "execution_count": 11
        }
      ]
    },
    {
      "cell_type": "code",
      "metadata": {
        "colab": {
          "base_uri": "https://localhost:8080/"
        },
        "id": "TyYvGAfK9Lz4",
        "outputId": "4c211014-9467-4c4b-ed25-a8a01f0f200b"
      },
      "source": [
        "import random\n",
        "random.seed(1)\n",
        "# shuffle df\n",
        "random.shuffle(df_list, lambda : 0.8)\n",
        "df_list[:2]"
      ],
      "execution_count": 12,
      "outputs": [
        {
          "output_type": "execute_result",
          "data": {
            "text/plain": [
              "[[0.13559322033898305, 0.0, 1.0, 1.0, 0.5968478328851085, 4],\n",
              " [0.5423728813559322, 1.0, 0.0, 1.0, 0.2133967102382888, 2]]"
            ]
          },
          "metadata": {
            "tags": []
          },
          "execution_count": 12
        }
      ]
    },
    {
      "cell_type": "code",
      "metadata": {
        "colab": {
          "base_uri": "https://localhost:8080/"
        },
        "id": "li1xSb299WRp",
        "outputId": "befd5525-dab2-4904-e78d-70aec490600d"
      },
      "source": [
        "train = df_list[:int(len(df_list)*0.7)]\n",
        "len(train)"
      ],
      "execution_count": 13,
      "outputs": [
        {
          "output_type": "execute_result",
          "data": {
            "text/plain": [
              "140"
            ]
          },
          "metadata": {
            "tags": []
          },
          "execution_count": 13
        }
      ]
    },
    {
      "cell_type": "code",
      "metadata": {
        "colab": {
          "base_uri": "https://localhost:8080/"
        },
        "id": "aIAL3w3N9ZTp",
        "outputId": "f986f2b1-f0ef-4b1f-f4da-a15406a510d5"
      },
      "source": [
        "test = df_list[int(len(df_list)*0.7):]\n",
        "len(test)"
      ],
      "execution_count": 14,
      "outputs": [
        {
          "output_type": "execute_result",
          "data": {
            "text/plain": [
              "60"
            ]
          },
          "metadata": {
            "tags": []
          },
          "execution_count": 14
        }
      ]
    },
    {
      "cell_type": "markdown",
      "metadata": {
        "id": "Dq3E4UQH9cgg"
      },
      "source": [
        "<h2> Pandas dataframe train, test"
      ]
    },
    {
      "cell_type": "code",
      "metadata": {
        "colab": {
          "base_uri": "https://localhost:8080/",
          "height": 406
        },
        "id": "QkHn-U199dhZ",
        "outputId": "8285c392-3e4f-4565-c1a8-38bd53791659"
      },
      "source": [
        "#train to train_df\n",
        "train_df = pd.DataFrame(train, columns=df.columns)\n",
        "train_X = train_df.drop('Drug', axis=1)\n",
        "train_y = train_df['Drug']\n",
        "train_df"
      ],
      "execution_count": 15,
      "outputs": [
        {
          "output_type": "execute_result",
          "data": {
            "text/html": [
              "<div>\n",
              "<style scoped>\n",
              "    .dataframe tbody tr th:only-of-type {\n",
              "        vertical-align: middle;\n",
              "    }\n",
              "\n",
              "    .dataframe tbody tr th {\n",
              "        vertical-align: top;\n",
              "    }\n",
              "\n",
              "    .dataframe thead th {\n",
              "        text-align: right;\n",
              "    }\n",
              "</style>\n",
              "<table border=\"1\" class=\"dataframe\">\n",
              "  <thead>\n",
              "    <tr style=\"text-align: right;\">\n",
              "      <th></th>\n",
              "      <th>Age</th>\n",
              "      <th>Sex</th>\n",
              "      <th>BP</th>\n",
              "      <th>Cholesterol</th>\n",
              "      <th>Na_to_K</th>\n",
              "      <th>Drug</th>\n",
              "    </tr>\n",
              "  </thead>\n",
              "  <tbody>\n",
              "    <tr>\n",
              "      <th>0</th>\n",
              "      <td>0.135593</td>\n",
              "      <td>0.0</td>\n",
              "      <td>1.0</td>\n",
              "      <td>1.0</td>\n",
              "      <td>0.596848</td>\n",
              "      <td>4</td>\n",
              "    </tr>\n",
              "    <tr>\n",
              "      <th>1</th>\n",
              "      <td>0.542373</td>\n",
              "      <td>1.0</td>\n",
              "      <td>0.0</td>\n",
              "      <td>1.0</td>\n",
              "      <td>0.213397</td>\n",
              "      <td>2</td>\n",
              "    </tr>\n",
              "    <tr>\n",
              "      <th>2</th>\n",
              "      <td>0.542373</td>\n",
              "      <td>1.0</td>\n",
              "      <td>0.0</td>\n",
              "      <td>1.0</td>\n",
              "      <td>0.120239</td>\n",
              "      <td>2</td>\n",
              "    </tr>\n",
              "    <tr>\n",
              "      <th>3</th>\n",
              "      <td>0.220339</td>\n",
              "      <td>0.0</td>\n",
              "      <td>0.5</td>\n",
              "      <td>1.0</td>\n",
              "      <td>0.047814</td>\n",
              "      <td>3</td>\n",
              "    </tr>\n",
              "    <tr>\n",
              "      <th>4</th>\n",
              "      <td>0.830508</td>\n",
              "      <td>1.0</td>\n",
              "      <td>1.0</td>\n",
              "      <td>0.0</td>\n",
              "      <td>0.458534</td>\n",
              "      <td>4</td>\n",
              "    </tr>\n",
              "    <tr>\n",
              "      <th>...</th>\n",
              "      <td>...</td>\n",
              "      <td>...</td>\n",
              "      <td>...</td>\n",
              "      <td>...</td>\n",
              "      <td>...</td>\n",
              "      <td>...</td>\n",
              "    </tr>\n",
              "    <tr>\n",
              "      <th>135</th>\n",
              "      <td>0.966102</td>\n",
              "      <td>1.0</td>\n",
              "      <td>1.0</td>\n",
              "      <td>0.0</td>\n",
              "      <td>0.106573</td>\n",
              "      <td>1</td>\n",
              "    </tr>\n",
              "    <tr>\n",
              "      <th>136</th>\n",
              "      <td>0.135593</td>\n",
              "      <td>1.0</td>\n",
              "      <td>0.5</td>\n",
              "      <td>1.0</td>\n",
              "      <td>0.330884</td>\n",
              "      <td>4</td>\n",
              "    </tr>\n",
              "    <tr>\n",
              "      <th>137</th>\n",
              "      <td>0.593220</td>\n",
              "      <td>1.0</td>\n",
              "      <td>1.0</td>\n",
              "      <td>1.0</td>\n",
              "      <td>0.038183</td>\n",
              "      <td>0</td>\n",
              "    </tr>\n",
              "    <tr>\n",
              "      <th>138</th>\n",
              "      <td>0.542373</td>\n",
              "      <td>0.0</td>\n",
              "      <td>0.5</td>\n",
              "      <td>0.0</td>\n",
              "      <td>0.012946</td>\n",
              "      <td>3</td>\n",
              "    </tr>\n",
              "    <tr>\n",
              "      <th>139</th>\n",
              "      <td>0.457627</td>\n",
              "      <td>1.0</td>\n",
              "      <td>1.0</td>\n",
              "      <td>0.0</td>\n",
              "      <td>0.203171</td>\n",
              "      <td>0</td>\n",
              "    </tr>\n",
              "  </tbody>\n",
              "</table>\n",
              "<p>140 rows × 6 columns</p>\n",
              "</div>"
            ],
            "text/plain": [
              "          Age  Sex   BP  Cholesterol   Na_to_K  Drug\n",
              "0    0.135593  0.0  1.0          1.0  0.596848     4\n",
              "1    0.542373  1.0  0.0          1.0  0.213397     2\n",
              "2    0.542373  1.0  0.0          1.0  0.120239     2\n",
              "3    0.220339  0.0  0.5          1.0  0.047814     3\n",
              "4    0.830508  1.0  1.0          0.0  0.458534     4\n",
              "..        ...  ...  ...          ...       ...   ...\n",
              "135  0.966102  1.0  1.0          0.0  0.106573     1\n",
              "136  0.135593  1.0  0.5          1.0  0.330884     4\n",
              "137  0.593220  1.0  1.0          1.0  0.038183     0\n",
              "138  0.542373  0.0  0.5          0.0  0.012946     3\n",
              "139  0.457627  1.0  1.0          0.0  0.203171     0\n",
              "\n",
              "[140 rows x 6 columns]"
            ]
          },
          "metadata": {
            "tags": []
          },
          "execution_count": 15
        }
      ]
    },
    {
      "cell_type": "code",
      "metadata": {
        "colab": {
          "base_uri": "https://localhost:8080/",
          "height": 1000
        },
        "id": "yyKp6a449m2r",
        "outputId": "b15038ab-4ce7-4429-efee-a74fdfb95f15"
      },
      "source": [
        "test_df = pd.DataFrame(test, columns=df.columns)\n",
        "test_X = test_df.drop('Drug', axis=1)\n",
        "test_y = test_df['Drug']\n",
        "test_df"
      ],
      "execution_count": 16,
      "outputs": [
        {
          "output_type": "execute_result",
          "data": {
            "text/html": [
              "<div>\n",
              "<style scoped>\n",
              "    .dataframe tbody tr th:only-of-type {\n",
              "        vertical-align: middle;\n",
              "    }\n",
              "\n",
              "    .dataframe tbody tr th {\n",
              "        vertical-align: top;\n",
              "    }\n",
              "\n",
              "    .dataframe thead th {\n",
              "        text-align: right;\n",
              "    }\n",
              "</style>\n",
              "<table border=\"1\" class=\"dataframe\">\n",
              "  <thead>\n",
              "    <tr style=\"text-align: right;\">\n",
              "      <th></th>\n",
              "      <th>Age</th>\n",
              "      <th>Sex</th>\n",
              "      <th>BP</th>\n",
              "      <th>Cholesterol</th>\n",
              "      <th>Na_to_K</th>\n",
              "      <th>Drug</th>\n",
              "    </tr>\n",
              "  </thead>\n",
              "  <tbody>\n",
              "    <tr>\n",
              "      <th>0</th>\n",
              "      <td>0.338983</td>\n",
              "      <td>1.0</td>\n",
              "      <td>0.0</td>\n",
              "      <td>0.0</td>\n",
              "      <td>0.090719</td>\n",
              "      <td>3</td>\n",
              "    </tr>\n",
              "    <tr>\n",
              "      <th>1</th>\n",
              "      <td>0.847458</td>\n",
              "      <td>0.0</td>\n",
              "      <td>0.0</td>\n",
              "      <td>0.0</td>\n",
              "      <td>0.234536</td>\n",
              "      <td>3</td>\n",
              "    </tr>\n",
              "    <tr>\n",
              "      <th>2</th>\n",
              "      <td>0.084746</td>\n",
              "      <td>0.0</td>\n",
              "      <td>0.5</td>\n",
              "      <td>0.0</td>\n",
              "      <td>0.094190</td>\n",
              "      <td>3</td>\n",
              "    </tr>\n",
              "    <tr>\n",
              "      <th>3</th>\n",
              "      <td>0.610169</td>\n",
              "      <td>1.0</td>\n",
              "      <td>1.0</td>\n",
              "      <td>1.0</td>\n",
              "      <td>0.376071</td>\n",
              "      <td>4</td>\n",
              "    </tr>\n",
              "    <tr>\n",
              "      <th>4</th>\n",
              "      <td>0.745763</td>\n",
              "      <td>0.0</td>\n",
              "      <td>0.5</td>\n",
              "      <td>1.0</td>\n",
              "      <td>0.238132</td>\n",
              "      <td>3</td>\n",
              "    </tr>\n",
              "    <tr>\n",
              "      <th>5</th>\n",
              "      <td>0.881356</td>\n",
              "      <td>1.0</td>\n",
              "      <td>0.5</td>\n",
              "      <td>0.0</td>\n",
              "      <td>0.101476</td>\n",
              "      <td>3</td>\n",
              "    </tr>\n",
              "    <tr>\n",
              "      <th>6</th>\n",
              "      <td>0.423729</td>\n",
              "      <td>0.0</td>\n",
              "      <td>0.5</td>\n",
              "      <td>1.0</td>\n",
              "      <td>0.119895</td>\n",
              "      <td>3</td>\n",
              "    </tr>\n",
              "    <tr>\n",
              "      <th>7</th>\n",
              "      <td>0.288136</td>\n",
              "      <td>0.0</td>\n",
              "      <td>1.0</td>\n",
              "      <td>0.0</td>\n",
              "      <td>0.125805</td>\n",
              "      <td>0</td>\n",
              "    </tr>\n",
              "    <tr>\n",
              "      <th>8</th>\n",
              "      <td>0.779661</td>\n",
              "      <td>0.0</td>\n",
              "      <td>1.0</td>\n",
              "      <td>1.0</td>\n",
              "      <td>0.600600</td>\n",
              "      <td>4</td>\n",
              "    </tr>\n",
              "    <tr>\n",
              "      <th>9</th>\n",
              "      <td>0.542373</td>\n",
              "      <td>1.0</td>\n",
              "      <td>1.0</td>\n",
              "      <td>1.0</td>\n",
              "      <td>0.129276</td>\n",
              "      <td>0</td>\n",
              "    </tr>\n",
              "    <tr>\n",
              "      <th>10</th>\n",
              "      <td>0.220339</td>\n",
              "      <td>1.0</td>\n",
              "      <td>0.5</td>\n",
              "      <td>1.0</td>\n",
              "      <td>0.650291</td>\n",
              "      <td>4</td>\n",
              "    </tr>\n",
              "    <tr>\n",
              "      <th>11</th>\n",
              "      <td>0.000000</td>\n",
              "      <td>1.0</td>\n",
              "      <td>1.0</td>\n",
              "      <td>0.0</td>\n",
              "      <td>0.342016</td>\n",
              "      <td>4</td>\n",
              "    </tr>\n",
              "    <tr>\n",
              "      <th>12</th>\n",
              "      <td>0.322034</td>\n",
              "      <td>1.0</td>\n",
              "      <td>0.5</td>\n",
              "      <td>1.0</td>\n",
              "      <td>0.506192</td>\n",
              "      <td>4</td>\n",
              "    </tr>\n",
              "    <tr>\n",
              "      <th>13</th>\n",
              "      <td>0.355932</td>\n",
              "      <td>0.0</td>\n",
              "      <td>0.5</td>\n",
              "      <td>1.0</td>\n",
              "      <td>0.327850</td>\n",
              "      <td>4</td>\n",
              "    </tr>\n",
              "    <tr>\n",
              "      <th>14</th>\n",
              "      <td>0.966102</td>\n",
              "      <td>1.0</td>\n",
              "      <td>0.0</td>\n",
              "      <td>1.0</td>\n",
              "      <td>0.015636</td>\n",
              "      <td>2</td>\n",
              "    </tr>\n",
              "    <tr>\n",
              "      <th>15</th>\n",
              "      <td>0.644068</td>\n",
              "      <td>0.0</td>\n",
              "      <td>1.0</td>\n",
              "      <td>0.0</td>\n",
              "      <td>0.194696</td>\n",
              "      <td>1</td>\n",
              "    </tr>\n",
              "    <tr>\n",
              "      <th>16</th>\n",
              "      <td>0.067797</td>\n",
              "      <td>0.0</td>\n",
              "      <td>1.0</td>\n",
              "      <td>0.0</td>\n",
              "      <td>0.616049</td>\n",
              "      <td>4</td>\n",
              "    </tr>\n",
              "    <tr>\n",
              "      <th>17</th>\n",
              "      <td>0.864407</td>\n",
              "      <td>1.0</td>\n",
              "      <td>1.0</td>\n",
              "      <td>1.0</td>\n",
              "      <td>0.315154</td>\n",
              "      <td>4</td>\n",
              "    </tr>\n",
              "    <tr>\n",
              "      <th>18</th>\n",
              "      <td>0.338983</td>\n",
              "      <td>1.0</td>\n",
              "      <td>0.5</td>\n",
              "      <td>0.0</td>\n",
              "      <td>0.049284</td>\n",
              "      <td>3</td>\n",
              "    </tr>\n",
              "    <tr>\n",
              "      <th>19</th>\n",
              "      <td>0.423729</td>\n",
              "      <td>0.0</td>\n",
              "      <td>0.0</td>\n",
              "      <td>0.0</td>\n",
              "      <td>0.158859</td>\n",
              "      <td>3</td>\n",
              "    </tr>\n",
              "    <tr>\n",
              "      <th>20</th>\n",
              "      <td>0.542373</td>\n",
              "      <td>1.0</td>\n",
              "      <td>0.0</td>\n",
              "      <td>0.0</td>\n",
              "      <td>0.852868</td>\n",
              "      <td>4</td>\n",
              "    </tr>\n",
              "    <tr>\n",
              "      <th>21</th>\n",
              "      <td>0.288136</td>\n",
              "      <td>0.0</td>\n",
              "      <td>0.5</td>\n",
              "      <td>1.0</td>\n",
              "      <td>0.037776</td>\n",
              "      <td>3</td>\n",
              "    </tr>\n",
              "    <tr>\n",
              "      <th>22</th>\n",
              "      <td>0.932203</td>\n",
              "      <td>0.0</td>\n",
              "      <td>0.5</td>\n",
              "      <td>1.0</td>\n",
              "      <td>0.444681</td>\n",
              "      <td>4</td>\n",
              "    </tr>\n",
              "    <tr>\n",
              "      <th>23</th>\n",
              "      <td>0.627119</td>\n",
              "      <td>1.0</td>\n",
              "      <td>0.0</td>\n",
              "      <td>0.0</td>\n",
              "      <td>0.833479</td>\n",
              "      <td>4</td>\n",
              "    </tr>\n",
              "    <tr>\n",
              "      <th>24</th>\n",
              "      <td>0.389831</td>\n",
              "      <td>1.0</td>\n",
              "      <td>0.0</td>\n",
              "      <td>1.0</td>\n",
              "      <td>0.376071</td>\n",
              "      <td>4</td>\n",
              "    </tr>\n",
              "    <tr>\n",
              "      <th>25</th>\n",
              "      <td>0.576271</td>\n",
              "      <td>1.0</td>\n",
              "      <td>0.0</td>\n",
              "      <td>0.0</td>\n",
              "      <td>0.229189</td>\n",
              "      <td>3</td>\n",
              "    </tr>\n",
              "    <tr>\n",
              "      <th>26</th>\n",
              "      <td>0.152542</td>\n",
              "      <td>1.0</td>\n",
              "      <td>0.5</td>\n",
              "      <td>1.0</td>\n",
              "      <td>0.610326</td>\n",
              "      <td>4</td>\n",
              "    </tr>\n",
              "    <tr>\n",
              "      <th>27</th>\n",
              "      <td>0.457627</td>\n",
              "      <td>0.0</td>\n",
              "      <td>1.0</td>\n",
              "      <td>1.0</td>\n",
              "      <td>0.461786</td>\n",
              "      <td>4</td>\n",
              "    </tr>\n",
              "    <tr>\n",
              "      <th>28</th>\n",
              "      <td>1.000000</td>\n",
              "      <td>1.0</td>\n",
              "      <td>0.0</td>\n",
              "      <td>0.0</td>\n",
              "      <td>0.177309</td>\n",
              "      <td>3</td>\n",
              "    </tr>\n",
              "    <tr>\n",
              "      <th>29</th>\n",
              "      <td>0.220339</td>\n",
              "      <td>0.0</td>\n",
              "      <td>0.5</td>\n",
              "      <td>1.0</td>\n",
              "      <td>0.206705</td>\n",
              "      <td>3</td>\n",
              "    </tr>\n",
              "    <tr>\n",
              "      <th>30</th>\n",
              "      <td>0.677966</td>\n",
              "      <td>0.0</td>\n",
              "      <td>1.0</td>\n",
              "      <td>1.0</td>\n",
              "      <td>0.147226</td>\n",
              "      <td>1</td>\n",
              "    </tr>\n",
              "    <tr>\n",
              "      <th>31</th>\n",
              "      <td>0.338983</td>\n",
              "      <td>0.0</td>\n",
              "      <td>1.0</td>\n",
              "      <td>1.0</td>\n",
              "      <td>0.207174</td>\n",
              "      <td>0</td>\n",
              "    </tr>\n",
              "    <tr>\n",
              "      <th>32</th>\n",
              "      <td>0.610169</td>\n",
              "      <td>1.0</td>\n",
              "      <td>1.0</td>\n",
              "      <td>0.0</td>\n",
              "      <td>0.158672</td>\n",
              "      <td>1</td>\n",
              "    </tr>\n",
              "    <tr>\n",
              "      <th>33</th>\n",
              "      <td>0.915254</td>\n",
              "      <td>0.0</td>\n",
              "      <td>0.5</td>\n",
              "      <td>1.0</td>\n",
              "      <td>0.118707</td>\n",
              "      <td>3</td>\n",
              "    </tr>\n",
              "    <tr>\n",
              "      <th>34</th>\n",
              "      <td>0.983051</td>\n",
              "      <td>0.0</td>\n",
              "      <td>1.0</td>\n",
              "      <td>1.0</td>\n",
              "      <td>0.377728</td>\n",
              "      <td>4</td>\n",
              "    </tr>\n",
              "    <tr>\n",
              "      <th>35</th>\n",
              "      <td>0.576271</td>\n",
              "      <td>1.0</td>\n",
              "      <td>1.0</td>\n",
              "      <td>0.0</td>\n",
              "      <td>0.000000</td>\n",
              "      <td>0</td>\n",
              "    </tr>\n",
              "    <tr>\n",
              "      <th>36</th>\n",
              "      <td>0.830508</td>\n",
              "      <td>0.0</td>\n",
              "      <td>0.0</td>\n",
              "      <td>0.0</td>\n",
              "      <td>0.608919</td>\n",
              "      <td>4</td>\n",
              "    </tr>\n",
              "    <tr>\n",
              "      <th>37</th>\n",
              "      <td>0.762712</td>\n",
              "      <td>1.0</td>\n",
              "      <td>1.0</td>\n",
              "      <td>0.0</td>\n",
              "      <td>0.073551</td>\n",
              "      <td>1</td>\n",
              "    </tr>\n",
              "    <tr>\n",
              "      <th>38</th>\n",
              "      <td>1.000000</td>\n",
              "      <td>1.0</td>\n",
              "      <td>1.0</td>\n",
              "      <td>0.0</td>\n",
              "      <td>0.286666</td>\n",
              "      <td>4</td>\n",
              "    </tr>\n",
              "    <tr>\n",
              "      <th>39</th>\n",
              "      <td>0.118644</td>\n",
              "      <td>0.0</td>\n",
              "      <td>1.0</td>\n",
              "      <td>0.0</td>\n",
              "      <td>0.517512</td>\n",
              "      <td>4</td>\n",
              "    </tr>\n",
              "    <tr>\n",
              "      <th>40</th>\n",
              "      <td>0.406780</td>\n",
              "      <td>1.0</td>\n",
              "      <td>1.0</td>\n",
              "      <td>1.0</td>\n",
              "      <td>0.106167</td>\n",
              "      <td>0</td>\n",
              "    </tr>\n",
              "    <tr>\n",
              "      <th>41</th>\n",
              "      <td>0.779661</td>\n",
              "      <td>1.0</td>\n",
              "      <td>0.5</td>\n",
              "      <td>1.0</td>\n",
              "      <td>0.099256</td>\n",
              "      <td>3</td>\n",
              "    </tr>\n",
              "    <tr>\n",
              "      <th>42</th>\n",
              "      <td>0.372881</td>\n",
              "      <td>0.0</td>\n",
              "      <td>0.0</td>\n",
              "      <td>0.0</td>\n",
              "      <td>0.179405</td>\n",
              "      <td>3</td>\n",
              "    </tr>\n",
              "    <tr>\n",
              "      <th>43</th>\n",
              "      <td>0.186441</td>\n",
              "      <td>0.0</td>\n",
              "      <td>1.0</td>\n",
              "      <td>0.0</td>\n",
              "      <td>0.188817</td>\n",
              "      <td>0</td>\n",
              "    </tr>\n",
              "    <tr>\n",
              "      <th>44</th>\n",
              "      <td>0.711864</td>\n",
              "      <td>0.0</td>\n",
              "      <td>0.5</td>\n",
              "      <td>0.0</td>\n",
              "      <td>0.613672</td>\n",
              "      <td>4</td>\n",
              "    </tr>\n",
              "    <tr>\n",
              "      <th>45</th>\n",
              "      <td>0.779661</td>\n",
              "      <td>0.0</td>\n",
              "      <td>0.0</td>\n",
              "      <td>0.0</td>\n",
              "      <td>0.033492</td>\n",
              "      <td>3</td>\n",
              "    </tr>\n",
              "    <tr>\n",
              "      <th>46</th>\n",
              "      <td>0.118644</td>\n",
              "      <td>1.0</td>\n",
              "      <td>0.0</td>\n",
              "      <td>1.0</td>\n",
              "      <td>0.058853</td>\n",
              "      <td>2</td>\n",
              "    </tr>\n",
              "    <tr>\n",
              "      <th>47</th>\n",
              "      <td>0.576271</td>\n",
              "      <td>1.0</td>\n",
              "      <td>1.0</td>\n",
              "      <td>0.0</td>\n",
              "      <td>0.076021</td>\n",
              "      <td>0</td>\n",
              "    </tr>\n",
              "    <tr>\n",
              "      <th>48</th>\n",
              "      <td>0.898305</td>\n",
              "      <td>1.0</td>\n",
              "      <td>1.0</td>\n",
              "      <td>1.0</td>\n",
              "      <td>0.148227</td>\n",
              "      <td>1</td>\n",
              "    </tr>\n",
              "    <tr>\n",
              "      <th>49</th>\n",
              "      <td>0.728814</td>\n",
              "      <td>1.0</td>\n",
              "      <td>1.0</td>\n",
              "      <td>1.0</td>\n",
              "      <td>0.397836</td>\n",
              "      <td>4</td>\n",
              "    </tr>\n",
              "    <tr>\n",
              "      <th>50</th>\n",
              "      <td>0.677966</td>\n",
              "      <td>1.0</td>\n",
              "      <td>0.5</td>\n",
              "      <td>0.0</td>\n",
              "      <td>0.031021</td>\n",
              "      <td>3</td>\n",
              "    </tr>\n",
              "    <tr>\n",
              "      <th>51</th>\n",
              "      <td>0.966102</td>\n",
              "      <td>0.0</td>\n",
              "      <td>0.0</td>\n",
              "      <td>0.0</td>\n",
              "      <td>0.261836</td>\n",
              "      <td>3</td>\n",
              "    </tr>\n",
              "    <tr>\n",
              "      <th>52</th>\n",
              "      <td>0.372881</td>\n",
              "      <td>1.0</td>\n",
              "      <td>0.0</td>\n",
              "      <td>0.0</td>\n",
              "      <td>0.326944</td>\n",
              "      <td>4</td>\n",
              "    </tr>\n",
              "    <tr>\n",
              "      <th>53</th>\n",
              "      <td>0.576271</td>\n",
              "      <td>1.0</td>\n",
              "      <td>0.0</td>\n",
              "      <td>1.0</td>\n",
              "      <td>0.133467</td>\n",
              "      <td>2</td>\n",
              "    </tr>\n",
              "    <tr>\n",
              "      <th>54</th>\n",
              "      <td>0.694915</td>\n",
              "      <td>0.0</td>\n",
              "      <td>0.0</td>\n",
              "      <td>1.0</td>\n",
              "      <td>0.165676</td>\n",
              "      <td>2</td>\n",
              "    </tr>\n",
              "    <tr>\n",
              "      <th>55</th>\n",
              "      <td>0.271186</td>\n",
              "      <td>1.0</td>\n",
              "      <td>1.0</td>\n",
              "      <td>0.0</td>\n",
              "      <td>0.155044</td>\n",
              "      <td>0</td>\n",
              "    </tr>\n",
              "    <tr>\n",
              "      <th>56</th>\n",
              "      <td>0.644068</td>\n",
              "      <td>1.0</td>\n",
              "      <td>0.0</td>\n",
              "      <td>1.0</td>\n",
              "      <td>0.522046</td>\n",
              "      <td>4</td>\n",
              "    </tr>\n",
              "    <tr>\n",
              "      <th>57</th>\n",
              "      <td>0.745763</td>\n",
              "      <td>0.0</td>\n",
              "      <td>0.0</td>\n",
              "      <td>1.0</td>\n",
              "      <td>0.130559</td>\n",
              "      <td>2</td>\n",
              "    </tr>\n",
              "    <tr>\n",
              "      <th>58</th>\n",
              "      <td>0.322034</td>\n",
              "      <td>0.0</td>\n",
              "      <td>0.0</td>\n",
              "      <td>0.0</td>\n",
              "      <td>0.208081</td>\n",
              "      <td>3</td>\n",
              "    </tr>\n",
              "    <tr>\n",
              "      <th>59</th>\n",
              "      <td>0.254237</td>\n",
              "      <td>0.0</td>\n",
              "      <td>0.5</td>\n",
              "      <td>1.0</td>\n",
              "      <td>0.130527</td>\n",
              "      <td>3</td>\n",
              "    </tr>\n",
              "  </tbody>\n",
              "</table>\n",
              "</div>"
            ],
            "text/plain": [
              "         Age  Sex   BP  Cholesterol   Na_to_K  Drug\n",
              "0   0.338983  1.0  0.0          0.0  0.090719     3\n",
              "1   0.847458  0.0  0.0          0.0  0.234536     3\n",
              "2   0.084746  0.0  0.5          0.0  0.094190     3\n",
              "3   0.610169  1.0  1.0          1.0  0.376071     4\n",
              "4   0.745763  0.0  0.5          1.0  0.238132     3\n",
              "5   0.881356  1.0  0.5          0.0  0.101476     3\n",
              "6   0.423729  0.0  0.5          1.0  0.119895     3\n",
              "7   0.288136  0.0  1.0          0.0  0.125805     0\n",
              "8   0.779661  0.0  1.0          1.0  0.600600     4\n",
              "9   0.542373  1.0  1.0          1.0  0.129276     0\n",
              "10  0.220339  1.0  0.5          1.0  0.650291     4\n",
              "11  0.000000  1.0  1.0          0.0  0.342016     4\n",
              "12  0.322034  1.0  0.5          1.0  0.506192     4\n",
              "13  0.355932  0.0  0.5          1.0  0.327850     4\n",
              "14  0.966102  1.0  0.0          1.0  0.015636     2\n",
              "15  0.644068  0.0  1.0          0.0  0.194696     1\n",
              "16  0.067797  0.0  1.0          0.0  0.616049     4\n",
              "17  0.864407  1.0  1.0          1.0  0.315154     4\n",
              "18  0.338983  1.0  0.5          0.0  0.049284     3\n",
              "19  0.423729  0.0  0.0          0.0  0.158859     3\n",
              "20  0.542373  1.0  0.0          0.0  0.852868     4\n",
              "21  0.288136  0.0  0.5          1.0  0.037776     3\n",
              "22  0.932203  0.0  0.5          1.0  0.444681     4\n",
              "23  0.627119  1.0  0.0          0.0  0.833479     4\n",
              "24  0.389831  1.0  0.0          1.0  0.376071     4\n",
              "25  0.576271  1.0  0.0          0.0  0.229189     3\n",
              "26  0.152542  1.0  0.5          1.0  0.610326     4\n",
              "27  0.457627  0.0  1.0          1.0  0.461786     4\n",
              "28  1.000000  1.0  0.0          0.0  0.177309     3\n",
              "29  0.220339  0.0  0.5          1.0  0.206705     3\n",
              "30  0.677966  0.0  1.0          1.0  0.147226     1\n",
              "31  0.338983  0.0  1.0          1.0  0.207174     0\n",
              "32  0.610169  1.0  1.0          0.0  0.158672     1\n",
              "33  0.915254  0.0  0.5          1.0  0.118707     3\n",
              "34  0.983051  0.0  1.0          1.0  0.377728     4\n",
              "35  0.576271  1.0  1.0          0.0  0.000000     0\n",
              "36  0.830508  0.0  0.0          0.0  0.608919     4\n",
              "37  0.762712  1.0  1.0          0.0  0.073551     1\n",
              "38  1.000000  1.0  1.0          0.0  0.286666     4\n",
              "39  0.118644  0.0  1.0          0.0  0.517512     4\n",
              "40  0.406780  1.0  1.0          1.0  0.106167     0\n",
              "41  0.779661  1.0  0.5          1.0  0.099256     3\n",
              "42  0.372881  0.0  0.0          0.0  0.179405     3\n",
              "43  0.186441  0.0  1.0          0.0  0.188817     0\n",
              "44  0.711864  0.0  0.5          0.0  0.613672     4\n",
              "45  0.779661  0.0  0.0          0.0  0.033492     3\n",
              "46  0.118644  1.0  0.0          1.0  0.058853     2\n",
              "47  0.576271  1.0  1.0          0.0  0.076021     0\n",
              "48  0.898305  1.0  1.0          1.0  0.148227     1\n",
              "49  0.728814  1.0  1.0          1.0  0.397836     4\n",
              "50  0.677966  1.0  0.5          0.0  0.031021     3\n",
              "51  0.966102  0.0  0.0          0.0  0.261836     3\n",
              "52  0.372881  1.0  0.0          0.0  0.326944     4\n",
              "53  0.576271  1.0  0.0          1.0  0.133467     2\n",
              "54  0.694915  0.0  0.0          1.0  0.165676     2\n",
              "55  0.271186  1.0  1.0          0.0  0.155044     0\n",
              "56  0.644068  1.0  0.0          1.0  0.522046     4\n",
              "57  0.745763  0.0  0.0          1.0  0.130559     2\n",
              "58  0.322034  0.0  0.0          0.0  0.208081     3\n",
              "59  0.254237  0.0  0.5          1.0  0.130527     3"
            ]
          },
          "metadata": {
            "tags": []
          },
          "execution_count": 16
        }
      ]
    },
    {
      "cell_type": "markdown",
      "metadata": {
        "id": "liEXysrR9xVZ"
      },
      "source": [
        "**<h1> Training**"
      ]
    },
    {
      "cell_type": "code",
      "metadata": {
        "id": "7cOgtTHNtAWn"
      },
      "source": [
        "models = dict()"
      ],
      "execution_count": 17,
      "outputs": []
    },
    {
      "cell_type": "code",
      "metadata": {
        "id": "NZXagoLNbg68"
      },
      "source": [
        "# training algorithm seed\n",
        "random.seed(1)"
      ],
      "execution_count": 18,
      "outputs": []
    },
    {
      "cell_type": "markdown",
      "metadata": {
        "id": "8OBLlh9PLEGf"
      },
      "source": [
        "<h2> Evaluate function"
      ]
    },
    {
      "cell_type": "code",
      "metadata": {
        "id": "RUhFn4lrKaBM"
      },
      "source": [
        "# get functions from evaluate.py in colab\n",
        "# if wanna edit hv to edit in evaluate.py\n",
        "\n",
        "#colab file path\n",
        "%run '/content/function/evaluate.py'\n",
        "## import evaluate_algorithm"
      ],
      "execution_count": 19,
      "outputs": []
    },
    {
      "cell_type": "markdown",
      "metadata": {
        "id": "DV-Y_sgBJ3-V"
      },
      "source": [
        "<h2> Neural Network"
      ]
    },
    {
      "cell_type": "code",
      "metadata": {
        "id": "jikBD0-VJ9V5"
      },
      "source": [
        "# get functions from neural_network.py in colab\n",
        "# if wanna edit hv to edit in neural_network.py\n",
        "\n",
        "#colab file path\n",
        "%run '/content/model/neural_network_classification.py'\n",
        "## import back_propagation"
      ],
      "execution_count": 20,
      "outputs": []
    },
    {
      "cell_type": "code",
      "metadata": {
        "colab": {
          "base_uri": "https://localhost:8080/"
        },
        "id": "KXvcwps_AilC",
        "outputId": "6f5be268-59eb-4f4d-f0af-575f6fb4d8c5"
      },
      "source": [
        "nn_pred = back_propagation(train, test, 0.1, 500, 10)\n",
        "nn_pred[:10]"
      ],
      "execution_count": 21,
      "outputs": [
        {
          "output_type": "stream",
          "text": [
            ">epoch=0, lrate=0.100, error=531.157\n",
            ">epoch=1, lrate=0.100, error=320.050\n",
            ">epoch=2, lrate=0.100, error=131.801\n",
            ">epoch=3, lrate=0.100, error=95.620\n",
            ">epoch=4, lrate=0.100, error=95.327\n",
            ">epoch=5, lrate=0.100, error=95.137\n",
            ">epoch=6, lrate=0.100, error=94.954\n",
            ">epoch=7, lrate=0.100, error=94.764\n",
            ">epoch=8, lrate=0.100, error=94.559\n",
            ">epoch=9, lrate=0.100, error=94.337\n",
            ">epoch=10, lrate=0.100, error=94.092\n",
            ">epoch=11, lrate=0.100, error=93.821\n",
            ">epoch=12, lrate=0.100, error=93.521\n",
            ">epoch=13, lrate=0.100, error=93.186\n",
            ">epoch=14, lrate=0.100, error=92.814\n",
            ">epoch=15, lrate=0.100, error=92.401\n",
            ">epoch=16, lrate=0.100, error=91.941\n",
            ">epoch=17, lrate=0.100, error=91.434\n",
            ">epoch=18, lrate=0.100, error=90.875\n",
            ">epoch=19, lrate=0.100, error=90.264\n",
            ">epoch=20, lrate=0.100, error=89.603\n",
            ">epoch=21, lrate=0.100, error=88.891\n",
            ">epoch=22, lrate=0.100, error=88.134\n",
            ">epoch=23, lrate=0.100, error=87.335\n",
            ">epoch=24, lrate=0.100, error=86.502\n",
            ">epoch=25, lrate=0.100, error=85.640\n",
            ">epoch=26, lrate=0.100, error=84.756\n",
            ">epoch=27, lrate=0.100, error=83.857\n",
            ">epoch=28, lrate=0.100, error=82.946\n",
            ">epoch=29, lrate=0.100, error=82.029\n",
            ">epoch=30, lrate=0.100, error=81.109\n",
            ">epoch=31, lrate=0.100, error=80.190\n",
            ">epoch=32, lrate=0.100, error=79.273\n",
            ">epoch=33, lrate=0.100, error=78.361\n",
            ">epoch=34, lrate=0.100, error=77.455\n",
            ">epoch=35, lrate=0.100, error=76.558\n",
            ">epoch=36, lrate=0.100, error=75.671\n",
            ">epoch=37, lrate=0.100, error=74.795\n",
            ">epoch=38, lrate=0.100, error=73.932\n",
            ">epoch=39, lrate=0.100, error=73.083\n",
            ">epoch=40, lrate=0.100, error=72.249\n",
            ">epoch=41, lrate=0.100, error=71.432\n",
            ">epoch=42, lrate=0.100, error=70.631\n",
            ">epoch=43, lrate=0.100, error=69.848\n",
            ">epoch=44, lrate=0.100, error=69.083\n",
            ">epoch=45, lrate=0.100, error=68.335\n",
            ">epoch=46, lrate=0.100, error=67.606\n",
            ">epoch=47, lrate=0.100, error=66.894\n",
            ">epoch=48, lrate=0.100, error=66.201\n",
            ">epoch=49, lrate=0.100, error=65.525\n",
            ">epoch=50, lrate=0.100, error=64.867\n",
            ">epoch=51, lrate=0.100, error=64.226\n",
            ">epoch=52, lrate=0.100, error=63.601\n",
            ">epoch=53, lrate=0.100, error=62.993\n",
            ">epoch=54, lrate=0.100, error=62.400\n",
            ">epoch=55, lrate=0.100, error=61.823\n",
            ">epoch=56, lrate=0.100, error=61.261\n",
            ">epoch=57, lrate=0.100, error=60.712\n",
            ">epoch=58, lrate=0.100, error=60.178\n",
            ">epoch=59, lrate=0.100, error=59.656\n",
            ">epoch=60, lrate=0.100, error=59.147\n",
            ">epoch=61, lrate=0.100, error=58.649\n",
            ">epoch=62, lrate=0.100, error=58.163\n",
            ">epoch=63, lrate=0.100, error=57.687\n",
            ">epoch=64, lrate=0.100, error=57.222\n",
            ">epoch=65, lrate=0.100, error=56.765\n",
            ">epoch=66, lrate=0.100, error=56.318\n",
            ">epoch=67, lrate=0.100, error=55.878\n",
            ">epoch=68, lrate=0.100, error=55.446\n",
            ">epoch=69, lrate=0.100, error=55.021\n",
            ">epoch=70, lrate=0.100, error=54.603\n",
            ">epoch=71, lrate=0.100, error=54.191\n",
            ">epoch=72, lrate=0.100, error=53.784\n",
            ">epoch=73, lrate=0.100, error=53.382\n",
            ">epoch=74, lrate=0.100, error=52.985\n",
            ">epoch=75, lrate=0.100, error=52.592\n",
            ">epoch=76, lrate=0.100, error=52.203\n",
            ">epoch=77, lrate=0.100, error=51.818\n",
            ">epoch=78, lrate=0.100, error=51.437\n",
            ">epoch=79, lrate=0.100, error=51.058\n",
            ">epoch=80, lrate=0.100, error=50.683\n",
            ">epoch=81, lrate=0.100, error=50.310\n",
            ">epoch=82, lrate=0.100, error=49.941\n",
            ">epoch=83, lrate=0.100, error=49.574\n",
            ">epoch=84, lrate=0.100, error=49.210\n",
            ">epoch=85, lrate=0.100, error=48.849\n",
            ">epoch=86, lrate=0.100, error=48.490\n",
            ">epoch=87, lrate=0.100, error=48.135\n",
            ">epoch=88, lrate=0.100, error=47.782\n",
            ">epoch=89, lrate=0.100, error=47.433\n",
            ">epoch=90, lrate=0.100, error=47.087\n",
            ">epoch=91, lrate=0.100, error=46.744\n",
            ">epoch=92, lrate=0.100, error=46.405\n",
            ">epoch=93, lrate=0.100, error=46.069\n",
            ">epoch=94, lrate=0.100, error=45.737\n",
            ">epoch=95, lrate=0.100, error=45.409\n",
            ">epoch=96, lrate=0.100, error=45.085\n",
            ">epoch=97, lrate=0.100, error=44.765\n",
            ">epoch=98, lrate=0.100, error=44.449\n",
            ">epoch=99, lrate=0.100, error=44.137\n",
            ">epoch=100, lrate=0.100, error=43.829\n",
            ">epoch=101, lrate=0.100, error=43.526\n",
            ">epoch=102, lrate=0.100, error=43.227\n",
            ">epoch=103, lrate=0.100, error=42.933\n",
            ">epoch=104, lrate=0.100, error=42.642\n",
            ">epoch=105, lrate=0.100, error=42.357\n",
            ">epoch=106, lrate=0.100, error=42.075\n",
            ">epoch=107, lrate=0.100, error=41.797\n",
            ">epoch=108, lrate=0.100, error=41.524\n",
            ">epoch=109, lrate=0.100, error=41.255\n",
            ">epoch=110, lrate=0.100, error=40.990\n",
            ">epoch=111, lrate=0.100, error=40.729\n",
            ">epoch=112, lrate=0.100, error=40.472\n",
            ">epoch=113, lrate=0.100, error=40.218\n",
            ">epoch=114, lrate=0.100, error=39.968\n",
            ">epoch=115, lrate=0.100, error=39.722\n",
            ">epoch=116, lrate=0.100, error=39.479\n",
            ">epoch=117, lrate=0.100, error=39.239\n",
            ">epoch=118, lrate=0.100, error=39.003\n",
            ">epoch=119, lrate=0.100, error=38.770\n",
            ">epoch=120, lrate=0.100, error=38.539\n",
            ">epoch=121, lrate=0.100, error=38.312\n",
            ">epoch=122, lrate=0.100, error=38.087\n",
            ">epoch=123, lrate=0.100, error=37.865\n",
            ">epoch=124, lrate=0.100, error=37.645\n",
            ">epoch=125, lrate=0.100, error=37.428\n",
            ">epoch=126, lrate=0.100, error=37.213\n",
            ">epoch=127, lrate=0.100, error=37.000\n",
            ">epoch=128, lrate=0.100, error=36.789\n",
            ">epoch=129, lrate=0.100, error=36.580\n",
            ">epoch=130, lrate=0.100, error=36.373\n",
            ">epoch=131, lrate=0.100, error=36.167\n",
            ">epoch=132, lrate=0.100, error=35.964\n",
            ">epoch=133, lrate=0.100, error=35.762\n",
            ">epoch=134, lrate=0.100, error=35.561\n",
            ">epoch=135, lrate=0.100, error=35.362\n",
            ">epoch=136, lrate=0.100, error=35.165\n",
            ">epoch=137, lrate=0.100, error=34.968\n",
            ">epoch=138, lrate=0.100, error=34.773\n",
            ">epoch=139, lrate=0.100, error=34.580\n",
            ">epoch=140, lrate=0.100, error=34.387\n",
            ">epoch=141, lrate=0.100, error=34.196\n",
            ">epoch=142, lrate=0.100, error=34.005\n",
            ">epoch=143, lrate=0.100, error=33.816\n",
            ">epoch=144, lrate=0.100, error=33.628\n",
            ">epoch=145, lrate=0.100, error=33.441\n",
            ">epoch=146, lrate=0.100, error=33.255\n",
            ">epoch=147, lrate=0.100, error=33.069\n",
            ">epoch=148, lrate=0.100, error=32.885\n",
            ">epoch=149, lrate=0.100, error=32.702\n",
            ">epoch=150, lrate=0.100, error=32.519\n",
            ">epoch=151, lrate=0.100, error=32.338\n",
            ">epoch=152, lrate=0.100, error=32.157\n",
            ">epoch=153, lrate=0.100, error=31.977\n",
            ">epoch=154, lrate=0.100, error=31.798\n",
            ">epoch=155, lrate=0.100, error=31.620\n",
            ">epoch=156, lrate=0.100, error=31.442\n",
            ">epoch=157, lrate=0.100, error=31.266\n",
            ">epoch=158, lrate=0.100, error=31.090\n",
            ">epoch=159, lrate=0.100, error=30.915\n",
            ">epoch=160, lrate=0.100, error=30.740\n",
            ">epoch=161, lrate=0.100, error=30.567\n",
            ">epoch=162, lrate=0.100, error=30.394\n",
            ">epoch=163, lrate=0.100, error=30.221\n",
            ">epoch=164, lrate=0.100, error=30.049\n",
            ">epoch=165, lrate=0.100, error=29.878\n",
            ">epoch=166, lrate=0.100, error=29.708\n",
            ">epoch=167, lrate=0.100, error=29.538\n",
            ">epoch=168, lrate=0.100, error=29.368\n",
            ">epoch=169, lrate=0.100, error=29.200\n",
            ">epoch=170, lrate=0.100, error=29.031\n",
            ">epoch=171, lrate=0.100, error=28.863\n",
            ">epoch=172, lrate=0.100, error=28.696\n",
            ">epoch=173, lrate=0.100, error=28.529\n",
            ">epoch=174, lrate=0.100, error=28.362\n",
            ">epoch=175, lrate=0.100, error=28.196\n",
            ">epoch=176, lrate=0.100, error=28.030\n",
            ">epoch=177, lrate=0.100, error=27.865\n",
            ">epoch=178, lrate=0.100, error=27.699\n",
            ">epoch=179, lrate=0.100, error=27.535\n",
            ">epoch=180, lrate=0.100, error=27.370\n",
            ">epoch=181, lrate=0.100, error=27.206\n",
            ">epoch=182, lrate=0.100, error=27.042\n",
            ">epoch=183, lrate=0.100, error=26.878\n",
            ">epoch=184, lrate=0.100, error=26.714\n",
            ">epoch=185, lrate=0.100, error=26.551\n",
            ">epoch=186, lrate=0.100, error=26.388\n",
            ">epoch=187, lrate=0.100, error=26.225\n",
            ">epoch=188, lrate=0.100, error=26.063\n",
            ">epoch=189, lrate=0.100, error=25.900\n",
            ">epoch=190, lrate=0.100, error=25.738\n",
            ">epoch=191, lrate=0.100, error=25.576\n",
            ">epoch=192, lrate=0.100, error=25.415\n",
            ">epoch=193, lrate=0.100, error=25.253\n",
            ">epoch=194, lrate=0.100, error=25.092\n",
            ">epoch=195, lrate=0.100, error=24.931\n",
            ">epoch=196, lrate=0.100, error=24.771\n",
            ">epoch=197, lrate=0.100, error=24.611\n",
            ">epoch=198, lrate=0.100, error=24.451\n",
            ">epoch=199, lrate=0.100, error=24.291\n",
            ">epoch=200, lrate=0.100, error=24.132\n",
            ">epoch=201, lrate=0.100, error=23.974\n",
            ">epoch=202, lrate=0.100, error=23.815\n",
            ">epoch=203, lrate=0.100, error=23.658\n",
            ">epoch=204, lrate=0.100, error=23.501\n",
            ">epoch=205, lrate=0.100, error=23.344\n",
            ">epoch=206, lrate=0.100, error=23.188\n",
            ">epoch=207, lrate=0.100, error=23.032\n",
            ">epoch=208, lrate=0.100, error=22.877\n",
            ">epoch=209, lrate=0.100, error=22.723\n",
            ">epoch=210, lrate=0.100, error=22.569\n",
            ">epoch=211, lrate=0.100, error=22.416\n",
            ">epoch=212, lrate=0.100, error=22.264\n",
            ">epoch=213, lrate=0.100, error=22.113\n",
            ">epoch=214, lrate=0.100, error=21.962\n",
            ">epoch=215, lrate=0.100, error=21.812\n",
            ">epoch=216, lrate=0.100, error=21.663\n",
            ">epoch=217, lrate=0.100, error=21.514\n",
            ">epoch=218, lrate=0.100, error=21.367\n",
            ">epoch=219, lrate=0.100, error=21.220\n",
            ">epoch=220, lrate=0.100, error=21.075\n",
            ">epoch=221, lrate=0.100, error=20.930\n",
            ">epoch=222, lrate=0.100, error=20.786\n",
            ">epoch=223, lrate=0.100, error=20.644\n",
            ">epoch=224, lrate=0.100, error=20.502\n",
            ">epoch=225, lrate=0.100, error=20.362\n",
            ">epoch=226, lrate=0.100, error=20.222\n",
            ">epoch=227, lrate=0.100, error=20.084\n",
            ">epoch=228, lrate=0.100, error=19.947\n",
            ">epoch=229, lrate=0.100, error=19.811\n",
            ">epoch=230, lrate=0.100, error=19.676\n",
            ">epoch=231, lrate=0.100, error=19.543\n",
            ">epoch=232, lrate=0.100, error=19.411\n",
            ">epoch=233, lrate=0.100, error=19.280\n",
            ">epoch=234, lrate=0.100, error=19.151\n",
            ">epoch=235, lrate=0.100, error=19.023\n",
            ">epoch=236, lrate=0.100, error=18.896\n",
            ">epoch=237, lrate=0.100, error=18.770\n",
            ">epoch=238, lrate=0.100, error=18.646\n",
            ">epoch=239, lrate=0.100, error=18.523\n",
            ">epoch=240, lrate=0.100, error=18.402\n",
            ">epoch=241, lrate=0.100, error=18.282\n",
            ">epoch=242, lrate=0.100, error=18.163\n",
            ">epoch=243, lrate=0.100, error=18.045\n",
            ">epoch=244, lrate=0.100, error=17.929\n",
            ">epoch=245, lrate=0.100, error=17.814\n",
            ">epoch=246, lrate=0.100, error=17.700\n",
            ">epoch=247, lrate=0.100, error=17.587\n",
            ">epoch=248, lrate=0.100, error=17.476\n",
            ">epoch=249, lrate=0.100, error=17.365\n",
            ">epoch=250, lrate=0.100, error=17.256\n",
            ">epoch=251, lrate=0.100, error=17.148\n",
            ">epoch=252, lrate=0.100, error=17.041\n",
            ">epoch=253, lrate=0.100, error=16.936\n",
            ">epoch=254, lrate=0.100, error=16.831\n",
            ">epoch=255, lrate=0.100, error=16.727\n",
            ">epoch=256, lrate=0.100, error=16.624\n",
            ">epoch=257, lrate=0.100, error=16.523\n",
            ">epoch=258, lrate=0.100, error=16.422\n",
            ">epoch=259, lrate=0.100, error=16.322\n",
            ">epoch=260, lrate=0.100, error=16.224\n",
            ">epoch=261, lrate=0.100, error=16.126\n",
            ">epoch=262, lrate=0.100, error=16.029\n",
            ">epoch=263, lrate=0.100, error=15.933\n",
            ">epoch=264, lrate=0.100, error=15.838\n",
            ">epoch=265, lrate=0.100, error=15.744\n",
            ">epoch=266, lrate=0.100, error=15.651\n",
            ">epoch=267, lrate=0.100, error=15.558\n",
            ">epoch=268, lrate=0.100, error=15.467\n",
            ">epoch=269, lrate=0.100, error=15.376\n",
            ">epoch=270, lrate=0.100, error=15.286\n",
            ">epoch=271, lrate=0.100, error=15.197\n",
            ">epoch=272, lrate=0.100, error=15.109\n",
            ">epoch=273, lrate=0.100, error=15.021\n",
            ">epoch=274, lrate=0.100, error=14.935\n",
            ">epoch=275, lrate=0.100, error=14.849\n",
            ">epoch=276, lrate=0.100, error=14.764\n",
            ">epoch=277, lrate=0.100, error=14.680\n",
            ">epoch=278, lrate=0.100, error=14.596\n",
            ">epoch=279, lrate=0.100, error=14.513\n",
            ">epoch=280, lrate=0.100, error=14.431\n",
            ">epoch=281, lrate=0.100, error=14.350\n",
            ">epoch=282, lrate=0.100, error=14.270\n",
            ">epoch=283, lrate=0.100, error=14.190\n",
            ">epoch=284, lrate=0.100, error=14.111\n",
            ">epoch=285, lrate=0.100, error=14.032\n",
            ">epoch=286, lrate=0.100, error=13.954\n",
            ">epoch=287, lrate=0.100, error=13.877\n",
            ">epoch=288, lrate=0.100, error=13.801\n",
            ">epoch=289, lrate=0.100, error=13.725\n",
            ">epoch=290, lrate=0.100, error=13.650\n",
            ">epoch=291, lrate=0.100, error=13.576\n",
            ">epoch=292, lrate=0.100, error=13.502\n",
            ">epoch=293, lrate=0.100, error=13.429\n",
            ">epoch=294, lrate=0.100, error=13.357\n",
            ">epoch=295, lrate=0.100, error=13.285\n",
            ">epoch=296, lrate=0.100, error=13.214\n",
            ">epoch=297, lrate=0.100, error=13.144\n",
            ">epoch=298, lrate=0.100, error=13.074\n",
            ">epoch=299, lrate=0.100, error=13.004\n",
            ">epoch=300, lrate=0.100, error=12.936\n",
            ">epoch=301, lrate=0.100, error=12.868\n",
            ">epoch=302, lrate=0.100, error=12.800\n",
            ">epoch=303, lrate=0.100, error=12.733\n",
            ">epoch=304, lrate=0.100, error=12.667\n",
            ">epoch=305, lrate=0.100, error=12.601\n",
            ">epoch=306, lrate=0.100, error=12.536\n",
            ">epoch=307, lrate=0.100, error=12.471\n",
            ">epoch=308, lrate=0.100, error=12.407\n",
            ">epoch=309, lrate=0.100, error=12.344\n",
            ">epoch=310, lrate=0.100, error=12.281\n",
            ">epoch=311, lrate=0.100, error=12.218\n",
            ">epoch=312, lrate=0.100, error=12.156\n",
            ">epoch=313, lrate=0.100, error=12.095\n",
            ">epoch=314, lrate=0.100, error=12.034\n",
            ">epoch=315, lrate=0.100, error=11.974\n",
            ">epoch=316, lrate=0.100, error=11.914\n",
            ">epoch=317, lrate=0.100, error=11.855\n",
            ">epoch=318, lrate=0.100, error=11.796\n",
            ">epoch=319, lrate=0.100, error=11.737\n",
            ">epoch=320, lrate=0.100, error=11.680\n",
            ">epoch=321, lrate=0.100, error=11.622\n",
            ">epoch=322, lrate=0.100, error=11.565\n",
            ">epoch=323, lrate=0.100, error=11.509\n",
            ">epoch=324, lrate=0.100, error=11.453\n",
            ">epoch=325, lrate=0.100, error=11.397\n",
            ">epoch=326, lrate=0.100, error=11.342\n",
            ">epoch=327, lrate=0.100, error=11.288\n",
            ">epoch=328, lrate=0.100, error=11.233\n",
            ">epoch=329, lrate=0.100, error=11.180\n",
            ">epoch=330, lrate=0.100, error=11.126\n",
            ">epoch=331, lrate=0.100, error=11.074\n",
            ">epoch=332, lrate=0.100, error=11.021\n",
            ">epoch=333, lrate=0.100, error=10.969\n",
            ">epoch=334, lrate=0.100, error=10.918\n",
            ">epoch=335, lrate=0.100, error=10.866\n",
            ">epoch=336, lrate=0.100, error=10.816\n",
            ">epoch=337, lrate=0.100, error=10.765\n",
            ">epoch=338, lrate=0.100, error=10.715\n",
            ">epoch=339, lrate=0.100, error=10.666\n",
            ">epoch=340, lrate=0.100, error=10.617\n",
            ">epoch=341, lrate=0.100, error=10.568\n",
            ">epoch=342, lrate=0.100, error=10.519\n",
            ">epoch=343, lrate=0.100, error=10.471\n",
            ">epoch=344, lrate=0.100, error=10.424\n",
            ">epoch=345, lrate=0.100, error=10.376\n",
            ">epoch=346, lrate=0.100, error=10.329\n",
            ">epoch=347, lrate=0.100, error=10.283\n",
            ">epoch=348, lrate=0.100, error=10.237\n",
            ">epoch=349, lrate=0.100, error=10.191\n",
            ">epoch=350, lrate=0.100, error=10.145\n",
            ">epoch=351, lrate=0.100, error=10.100\n",
            ">epoch=352, lrate=0.100, error=10.055\n",
            ">epoch=353, lrate=0.100, error=10.011\n",
            ">epoch=354, lrate=0.100, error=9.967\n",
            ">epoch=355, lrate=0.100, error=9.923\n",
            ">epoch=356, lrate=0.100, error=9.879\n",
            ">epoch=357, lrate=0.100, error=9.836\n",
            ">epoch=358, lrate=0.100, error=9.793\n",
            ">epoch=359, lrate=0.100, error=9.751\n",
            ">epoch=360, lrate=0.100, error=9.709\n",
            ">epoch=361, lrate=0.100, error=9.667\n",
            ">epoch=362, lrate=0.100, error=9.625\n",
            ">epoch=363, lrate=0.100, error=9.584\n",
            ">epoch=364, lrate=0.100, error=9.543\n",
            ">epoch=365, lrate=0.100, error=9.502\n",
            ">epoch=366, lrate=0.100, error=9.462\n",
            ">epoch=367, lrate=0.100, error=9.422\n",
            ">epoch=368, lrate=0.100, error=9.382\n",
            ">epoch=369, lrate=0.100, error=9.342\n",
            ">epoch=370, lrate=0.100, error=9.303\n",
            ">epoch=371, lrate=0.100, error=9.264\n",
            ">epoch=372, lrate=0.100, error=9.225\n",
            ">epoch=373, lrate=0.100, error=9.187\n",
            ">epoch=374, lrate=0.100, error=9.149\n",
            ">epoch=375, lrate=0.100, error=9.111\n",
            ">epoch=376, lrate=0.100, error=9.073\n",
            ">epoch=377, lrate=0.100, error=9.036\n",
            ">epoch=378, lrate=0.100, error=8.999\n",
            ">epoch=379, lrate=0.100, error=8.962\n",
            ">epoch=380, lrate=0.100, error=8.926\n",
            ">epoch=381, lrate=0.100, error=8.889\n",
            ">epoch=382, lrate=0.100, error=8.853\n",
            ">epoch=383, lrate=0.100, error=8.817\n",
            ">epoch=384, lrate=0.100, error=8.782\n",
            ">epoch=385, lrate=0.100, error=8.746\n",
            ">epoch=386, lrate=0.100, error=8.711\n",
            ">epoch=387, lrate=0.100, error=8.676\n",
            ">epoch=388, lrate=0.100, error=8.642\n",
            ">epoch=389, lrate=0.100, error=8.607\n",
            ">epoch=390, lrate=0.100, error=8.573\n",
            ">epoch=391, lrate=0.100, error=8.539\n",
            ">epoch=392, lrate=0.100, error=8.506\n",
            ">epoch=393, lrate=0.100, error=8.472\n",
            ">epoch=394, lrate=0.100, error=8.439\n",
            ">epoch=395, lrate=0.100, error=8.406\n",
            ">epoch=396, lrate=0.100, error=8.373\n",
            ">epoch=397, lrate=0.100, error=8.340\n",
            ">epoch=398, lrate=0.100, error=8.308\n",
            ">epoch=399, lrate=0.100, error=8.276\n",
            ">epoch=400, lrate=0.100, error=8.244\n",
            ">epoch=401, lrate=0.100, error=8.212\n",
            ">epoch=402, lrate=0.100, error=8.181\n",
            ">epoch=403, lrate=0.100, error=8.149\n",
            ">epoch=404, lrate=0.100, error=8.118\n",
            ">epoch=405, lrate=0.100, error=8.087\n",
            ">epoch=406, lrate=0.100, error=8.056\n",
            ">epoch=407, lrate=0.100, error=8.026\n",
            ">epoch=408, lrate=0.100, error=7.996\n",
            ">epoch=409, lrate=0.100, error=7.965\n",
            ">epoch=410, lrate=0.100, error=7.935\n",
            ">epoch=411, lrate=0.100, error=7.906\n",
            ">epoch=412, lrate=0.100, error=7.876\n",
            ">epoch=413, lrate=0.100, error=7.847\n",
            ">epoch=414, lrate=0.100, error=7.817\n",
            ">epoch=415, lrate=0.100, error=7.788\n",
            ">epoch=416, lrate=0.100, error=7.759\n",
            ">epoch=417, lrate=0.100, error=7.731\n",
            ">epoch=418, lrate=0.100, error=7.702\n",
            ">epoch=419, lrate=0.100, error=7.674\n",
            ">epoch=420, lrate=0.100, error=7.646\n",
            ">epoch=421, lrate=0.100, error=7.618\n",
            ">epoch=422, lrate=0.100, error=7.590\n",
            ">epoch=423, lrate=0.100, error=7.562\n",
            ">epoch=424, lrate=0.100, error=7.535\n",
            ">epoch=425, lrate=0.100, error=7.507\n",
            ">epoch=426, lrate=0.100, error=7.480\n",
            ">epoch=427, lrate=0.100, error=7.453\n",
            ">epoch=428, lrate=0.100, error=7.426\n",
            ">epoch=429, lrate=0.100, error=7.400\n",
            ">epoch=430, lrate=0.100, error=7.373\n",
            ">epoch=431, lrate=0.100, error=7.347\n",
            ">epoch=432, lrate=0.100, error=7.321\n",
            ">epoch=433, lrate=0.100, error=7.295\n",
            ">epoch=434, lrate=0.100, error=7.269\n",
            ">epoch=435, lrate=0.100, error=7.243\n",
            ">epoch=436, lrate=0.100, error=7.217\n",
            ">epoch=437, lrate=0.100, error=7.192\n",
            ">epoch=438, lrate=0.100, error=7.167\n",
            ">epoch=439, lrate=0.100, error=7.142\n",
            ">epoch=440, lrate=0.100, error=7.117\n",
            ">epoch=441, lrate=0.100, error=7.092\n",
            ">epoch=442, lrate=0.100, error=7.067\n",
            ">epoch=443, lrate=0.100, error=7.042\n",
            ">epoch=444, lrate=0.100, error=7.018\n",
            ">epoch=445, lrate=0.100, error=6.994\n",
            ">epoch=446, lrate=0.100, error=6.970\n",
            ">epoch=447, lrate=0.100, error=6.946\n",
            ">epoch=448, lrate=0.100, error=6.922\n",
            ">epoch=449, lrate=0.100, error=6.898\n",
            ">epoch=450, lrate=0.100, error=6.874\n",
            ">epoch=451, lrate=0.100, error=6.851\n",
            ">epoch=452, lrate=0.100, error=6.828\n",
            ">epoch=453, lrate=0.100, error=6.804\n",
            ">epoch=454, lrate=0.100, error=6.781\n",
            ">epoch=455, lrate=0.100, error=6.758\n",
            ">epoch=456, lrate=0.100, error=6.736\n",
            ">epoch=457, lrate=0.100, error=6.713\n",
            ">epoch=458, lrate=0.100, error=6.690\n",
            ">epoch=459, lrate=0.100, error=6.668\n",
            ">epoch=460, lrate=0.100, error=6.646\n",
            ">epoch=461, lrate=0.100, error=6.623\n",
            ">epoch=462, lrate=0.100, error=6.601\n",
            ">epoch=463, lrate=0.100, error=6.579\n",
            ">epoch=464, lrate=0.100, error=6.557\n",
            ">epoch=465, lrate=0.100, error=6.536\n",
            ">epoch=466, lrate=0.100, error=6.514\n",
            ">epoch=467, lrate=0.100, error=6.493\n",
            ">epoch=468, lrate=0.100, error=6.471\n",
            ">epoch=469, lrate=0.100, error=6.450\n",
            ">epoch=470, lrate=0.100, error=6.429\n",
            ">epoch=471, lrate=0.100, error=6.408\n",
            ">epoch=472, lrate=0.100, error=6.387\n",
            ">epoch=473, lrate=0.100, error=6.366\n",
            ">epoch=474, lrate=0.100, error=6.345\n",
            ">epoch=475, lrate=0.100, error=6.325\n",
            ">epoch=476, lrate=0.100, error=6.304\n",
            ">epoch=477, lrate=0.100, error=6.284\n",
            ">epoch=478, lrate=0.100, error=6.264\n",
            ">epoch=479, lrate=0.100, error=6.244\n",
            ">epoch=480, lrate=0.100, error=6.224\n",
            ">epoch=481, lrate=0.100, error=6.204\n",
            ">epoch=482, lrate=0.100, error=6.184\n",
            ">epoch=483, lrate=0.100, error=6.164\n",
            ">epoch=484, lrate=0.100, error=6.145\n",
            ">epoch=485, lrate=0.100, error=6.125\n",
            ">epoch=486, lrate=0.100, error=6.106\n",
            ">epoch=487, lrate=0.100, error=6.086\n",
            ">epoch=488, lrate=0.100, error=6.067\n",
            ">epoch=489, lrate=0.100, error=6.048\n",
            ">epoch=490, lrate=0.100, error=6.029\n",
            ">epoch=491, lrate=0.100, error=6.010\n",
            ">epoch=492, lrate=0.100, error=5.991\n",
            ">epoch=493, lrate=0.100, error=5.972\n",
            ">epoch=494, lrate=0.100, error=5.954\n",
            ">epoch=495, lrate=0.100, error=5.935\n",
            ">epoch=496, lrate=0.100, error=5.917\n",
            ">epoch=497, lrate=0.100, error=5.898\n",
            ">epoch=498, lrate=0.100, error=5.880\n",
            ">epoch=499, lrate=0.100, error=5.862\n"
          ],
          "name": "stdout"
        },
        {
          "output_type": "execute_result",
          "data": {
            "text/plain": [
              "[2, 3, 3, 0, 4, 1, 3, 0, 4, 0]"
            ]
          },
          "metadata": {
            "tags": []
          },
          "execution_count": 21
        }
      ]
    },
    {
      "cell_type": "code",
      "metadata": {
        "colab": {
          "base_uri": "https://localhost:8080/"
        },
        "id": "LkE975ZZA3_l",
        "outputId": "7f56b72e-41ea-44fa-8922-9c5ecf6cc674"
      },
      "source": [
        "nn_actual = [row[-1] for row in test]\n",
        "nn_actual[:10]"
      ],
      "execution_count": 22,
      "outputs": [
        {
          "output_type": "execute_result",
          "data": {
            "text/plain": [
              "[3, 3, 3, 4, 3, 3, 3, 0, 4, 0]"
            ]
          },
          "metadata": {
            "tags": []
          },
          "execution_count": 22
        }
      ]
    },
    {
      "cell_type": "code",
      "metadata": {
        "colab": {
          "base_uri": "https://localhost:8080/"
        },
        "id": "jyTImKjsDdHR",
        "outputId": "1452efcc-6e5f-49a9-d8d8-01870d468e1e"
      },
      "source": [
        "accuracy_metric(nn_actual, nn_pred)"
      ],
      "execution_count": 23,
      "outputs": [
        {
          "output_type": "execute_result",
          "data": {
            "text/plain": [
              "66.66666666666666"
            ]
          },
          "metadata": {
            "tags": []
          },
          "execution_count": 23
        }
      ]
    },
    {
      "cell_type": "code",
      "metadata": {
        "colab": {
          "base_uri": "https://localhost:8080/"
        },
        "id": "R2_KM3jxPI1N",
        "outputId": "fdd649b6-f633-47c1-d707-a8dce7d8bedf"
      },
      "source": [
        "models['neural_network'] = accuracy_metric(nn_actual, nn_pred)\n",
        "models"
      ],
      "execution_count": 24,
      "outputs": [
        {
          "output_type": "execute_result",
          "data": {
            "text/plain": [
              "{'neural_network': 66.66666666666666}"
            ]
          },
          "metadata": {
            "tags": []
          },
          "execution_count": 24
        }
      ]
    },
    {
      "cell_type": "markdown",
      "metadata": {
        "id": "QWge2p1KPTHB"
      },
      "source": [
        "<h2> Decision Tree"
      ]
    },
    {
      "cell_type": "code",
      "metadata": {
        "id": "61SLjwSqQnoO"
      },
      "source": [
        "# get functions from trees.py.py in colab\n",
        "# if wanna edit hv to edit in trees.py.py\n",
        "# this one's for both decision tree and random forest\n",
        "\n",
        "#colab file path\n",
        "%run '/content/model/trees.py'"
      ],
      "execution_count": 25,
      "outputs": []
    },
    {
      "cell_type": "code",
      "metadata": {
        "id": "qw3FxI03PTjh"
      },
      "source": [
        "dt_classifier = DecisionTreeClassifier(min_samples_split=3, max_depth=3)\n",
        "dt_classifier.fit(train_X.values, train_y.values.reshape(-1,1))"
      ],
      "execution_count": 26,
      "outputs": []
    },
    {
      "cell_type": "code",
      "metadata": {
        "colab": {
          "base_uri": "https://localhost:8080/"
        },
        "id": "r50c3Px6RCCT",
        "outputId": "db48056e-fe77-4860-e07e-ae6b8dee87b4"
      },
      "source": [
        "dt_pred = dt_classifier.predict(test_X.values)\n",
        "dt_pred[:10]"
      ],
      "execution_count": 27,
      "outputs": [
        {
          "output_type": "execute_result",
          "data": {
            "text/plain": [
              "[3.0, 3.0, 3.0, 4.0, 3.0, 3.0, 3.0, 0.0, 4.0, 0.0]"
            ]
          },
          "metadata": {
            "tags": []
          },
          "execution_count": 27
        }
      ]
    },
    {
      "cell_type": "code",
      "metadata": {
        "colab": {
          "base_uri": "https://localhost:8080/"
        },
        "id": "17i9jtcsRIHD",
        "outputId": "2fc0448c-6f7d-46d2-cdb4-9f5374581b2c"
      },
      "source": [
        "dt_actual = [row[-1] for row in test]\n",
        "dt_actual[:10]"
      ],
      "execution_count": 28,
      "outputs": [
        {
          "output_type": "execute_result",
          "data": {
            "text/plain": [
              "[3, 3, 3, 4, 3, 3, 3, 0, 4, 0]"
            ]
          },
          "metadata": {
            "tags": []
          },
          "execution_count": 28
        }
      ]
    },
    {
      "cell_type": "code",
      "metadata": {
        "colab": {
          "base_uri": "https://localhost:8080/"
        },
        "id": "p-HD9OYsRN0j",
        "outputId": "906b1e45-68dc-4e4e-9219-94022284206d"
      },
      "source": [
        "accuracy_metric(dt_actual, dt_pred)"
      ],
      "execution_count": 29,
      "outputs": [
        {
          "output_type": "execute_result",
          "data": {
            "text/plain": [
              "98.33333333333333"
            ]
          },
          "metadata": {
            "tags": []
          },
          "execution_count": 29
        }
      ]
    },
    {
      "cell_type": "code",
      "metadata": {
        "colab": {
          "base_uri": "https://localhost:8080/"
        },
        "id": "SoYqdWENRSQ5",
        "outputId": "c16f722c-1213-482e-cbb2-08686e4e5d40"
      },
      "source": [
        "models['decision_tree'] = accuracy_metric(dt_actual, dt_pred)\n",
        "models"
      ],
      "execution_count": 30,
      "outputs": [
        {
          "output_type": "execute_result",
          "data": {
            "text/plain": [
              "{'decision_tree': 98.33333333333333, 'neural_network': 66.66666666666666}"
            ]
          },
          "metadata": {
            "tags": []
          },
          "execution_count": 30
        }
      ]
    },
    {
      "cell_type": "markdown",
      "metadata": {
        "id": "lG_EUwUiIlQz"
      },
      "source": [
        "<h2> Random forest"
      ]
    },
    {
      "cell_type": "code",
      "metadata": {
        "id": "uuLhBSFAbncJ"
      },
      "source": [
        "# get functions from trees.py.py in colab\n",
        "# if wanna edit hv to edit in trees.py.py\n",
        "# this one's for both decision tree and random forest\n",
        "\n",
        "#colab file path\n",
        "%run '/content/model/classify_trees.py'"
      ],
      "execution_count": 45,
      "outputs": []
    },
    {
      "cell_type": "code",
      "metadata": {
        "colab": {
          "base_uri": "https://localhost:8080/"
        },
        "id": "-YCeWQP7UAc5",
        "outputId": "e2ee0314-052b-4ca7-d191-13239516bc66"
      },
      "source": [
        "max_depth = 10\n",
        "min_size = 1\n",
        "sample_size = 1.0\n",
        "n_trees = 10\n",
        "n_features = int(((len(train[0])-1)**(1/2)))\n",
        "\n",
        "rf_pred = random_forest_classifier(train, test, max_depth, min_size, sample_size, n_trees, n_features)\n",
        "rf_pred[:10]"
      ],
      "execution_count": 46,
      "outputs": [
        {
          "output_type": "execute_result",
          "data": {
            "text/plain": [
              "[3, 3, 3, 4, 3, 3, 3, 0, 4, 0]"
            ]
          },
          "metadata": {
            "tags": []
          },
          "execution_count": 46
        }
      ]
    },
    {
      "cell_type": "code",
      "metadata": {
        "colab": {
          "base_uri": "https://localhost:8080/"
        },
        "id": "49ejL_Jxm8vf",
        "outputId": "ae6011dd-94ff-4347-abfa-e8947a5ad677"
      },
      "source": [
        "rf_actual = [row[-1] for row in test]\n",
        "rf_actual[:10]"
      ],
      "execution_count": 47,
      "outputs": [
        {
          "output_type": "execute_result",
          "data": {
            "text/plain": [
              "[3, 3, 3, 4, 3, 3, 3, 0, 4, 0]"
            ]
          },
          "metadata": {
            "tags": []
          },
          "execution_count": 47
        }
      ]
    },
    {
      "cell_type": "code",
      "metadata": {
        "colab": {
          "base_uri": "https://localhost:8080/"
        },
        "id": "ehOyVm4fnDIS",
        "outputId": "57c2b707-3b56-4a7c-c205-6993ae06f999"
      },
      "source": [
        "accuracy_metric(rf_actual, rf_pred)"
      ],
      "execution_count": 48,
      "outputs": [
        {
          "output_type": "execute_result",
          "data": {
            "text/plain": [
              "91.66666666666666"
            ]
          },
          "metadata": {
            "tags": []
          },
          "execution_count": 48
        }
      ]
    },
    {
      "cell_type": "code",
      "metadata": {
        "colab": {
          "base_uri": "https://localhost:8080/"
        },
        "id": "7Hi2dqhanIa7",
        "outputId": "510d48b1-e0da-4cd6-d6eb-f040768e42a7"
      },
      "source": [
        "models['random_forest'] = accuracy_metric(rf_actual, rf_pred)\n",
        "models"
      ],
      "execution_count": 49,
      "outputs": [
        {
          "output_type": "execute_result",
          "data": {
            "text/plain": [
              "{'decision_tree': 98.33333333333333,\n",
              " 'neural_network': 66.66666666666666,\n",
              " 'random_forest': 91.66666666666666}"
            ]
          },
          "metadata": {
            "tags": []
          },
          "execution_count": 49
        }
      ]
    }
  ]
}