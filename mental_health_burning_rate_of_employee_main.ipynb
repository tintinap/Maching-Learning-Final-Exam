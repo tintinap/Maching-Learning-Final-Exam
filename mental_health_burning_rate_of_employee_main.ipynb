{
  "nbformat": 4,
  "nbformat_minor": 0,
  "metadata": {
    "colab": {
      "name": "mental_health_burning_rate_of_employee_main.ipynb",
      "provenance": [],
      "collapsed_sections": [],
      "authorship_tag": "ABX9TyPWhdrbU6hIj8WpqfK3o+3Q",
      "include_colab_link": true
    },
    "kernelspec": {
      "name": "python3",
      "display_name": "Python 3"
    },
    "language_info": {
      "name": "python"
    }
  },
  "cells": [
    {
      "cell_type": "markdown",
      "metadata": {
        "id": "view-in-github",
        "colab_type": "text"
      },
      "source": [
        "<a href=\"https://colab.research.google.com/github/tintinap/Maching-Learning-Final-Exam/blob/main/mental_health_burning_rate_of_employee_main.ipynb\" target=\"_parent\"><img src=\"https://colab.research.google.com/assets/colab-badge.svg\" alt=\"Open In Colab\"/></a>"
      ]
    },
    {
      "cell_type": "code",
      "metadata": {
        "id": "Dqvj6VIJ4KJ1"
      },
      "source": [
        "#import\n",
        "import pandas as pd\n",
        "import numpy as np"
      ],
      "execution_count": null,
      "outputs": []
    },
    {
      "cell_type": "code",
      "metadata": {
        "colab": {
          "base_uri": "https://localhost:8080/",
          "height": 197
        },
        "id": "41rFqgYp6RxQ",
        "outputId": "a73dc0ce-cc21-45de-8869-59887db59015"
      },
      "source": [
        "data = pd.read_csv('https://raw.githubusercontent.com/tintinap/Maching-Learning-Final-Exam/main/dataset/mental_health/train.csv')\n",
        "data.head()"
      ],
      "execution_count": null,
      "outputs": [
        {
          "output_type": "execute_result",
          "data": {
            "text/html": [
              "<div>\n",
              "<style scoped>\n",
              "    .dataframe tbody tr th:only-of-type {\n",
              "        vertical-align: middle;\n",
              "    }\n",
              "\n",
              "    .dataframe tbody tr th {\n",
              "        vertical-align: top;\n",
              "    }\n",
              "\n",
              "    .dataframe thead th {\n",
              "        text-align: right;\n",
              "    }\n",
              "</style>\n",
              "<table border=\"1\" class=\"dataframe\">\n",
              "  <thead>\n",
              "    <tr style=\"text-align: right;\">\n",
              "      <th></th>\n",
              "      <th>Employee ID</th>\n",
              "      <th>Date of Joining</th>\n",
              "      <th>Gender</th>\n",
              "      <th>Company Type</th>\n",
              "      <th>WFH Setup Available</th>\n",
              "      <th>Designation</th>\n",
              "      <th>Resource Allocation</th>\n",
              "      <th>Mental Fatigue Score</th>\n",
              "      <th>Burn Rate</th>\n",
              "    </tr>\n",
              "  </thead>\n",
              "  <tbody>\n",
              "    <tr>\n",
              "      <th>0</th>\n",
              "      <td>fffe32003000360033003200</td>\n",
              "      <td>2008-09-30</td>\n",
              "      <td>Female</td>\n",
              "      <td>Service</td>\n",
              "      <td>No</td>\n",
              "      <td>2.0</td>\n",
              "      <td>3.0</td>\n",
              "      <td>3.8</td>\n",
              "      <td>0.16</td>\n",
              "    </tr>\n",
              "    <tr>\n",
              "      <th>1</th>\n",
              "      <td>fffe3700360033003500</td>\n",
              "      <td>2008-11-30</td>\n",
              "      <td>Male</td>\n",
              "      <td>Service</td>\n",
              "      <td>Yes</td>\n",
              "      <td>1.0</td>\n",
              "      <td>2.0</td>\n",
              "      <td>5.0</td>\n",
              "      <td>0.36</td>\n",
              "    </tr>\n",
              "    <tr>\n",
              "      <th>2</th>\n",
              "      <td>fffe31003300320037003900</td>\n",
              "      <td>2008-03-10</td>\n",
              "      <td>Female</td>\n",
              "      <td>Product</td>\n",
              "      <td>Yes</td>\n",
              "      <td>2.0</td>\n",
              "      <td>NaN</td>\n",
              "      <td>5.8</td>\n",
              "      <td>0.49</td>\n",
              "    </tr>\n",
              "    <tr>\n",
              "      <th>3</th>\n",
              "      <td>fffe32003400380032003900</td>\n",
              "      <td>2008-11-03</td>\n",
              "      <td>Male</td>\n",
              "      <td>Service</td>\n",
              "      <td>Yes</td>\n",
              "      <td>1.0</td>\n",
              "      <td>1.0</td>\n",
              "      <td>2.6</td>\n",
              "      <td>0.20</td>\n",
              "    </tr>\n",
              "    <tr>\n",
              "      <th>4</th>\n",
              "      <td>fffe31003900340031003600</td>\n",
              "      <td>2008-07-24</td>\n",
              "      <td>Female</td>\n",
              "      <td>Service</td>\n",
              "      <td>No</td>\n",
              "      <td>3.0</td>\n",
              "      <td>7.0</td>\n",
              "      <td>6.9</td>\n",
              "      <td>0.52</td>\n",
              "    </tr>\n",
              "  </tbody>\n",
              "</table>\n",
              "</div>"
            ],
            "text/plain": [
              "                Employee ID Date of Joining  ... Mental Fatigue Score Burn Rate\n",
              "0  fffe32003000360033003200      2008-09-30  ...                  3.8      0.16\n",
              "1      fffe3700360033003500      2008-11-30  ...                  5.0      0.36\n",
              "2  fffe31003300320037003900      2008-03-10  ...                  5.8      0.49\n",
              "3  fffe32003400380032003900      2008-11-03  ...                  2.6      0.20\n",
              "4  fffe31003900340031003600      2008-07-24  ...                  6.9      0.52\n",
              "\n",
              "[5 rows x 9 columns]"
            ]
          },
          "metadata": {
            "tags": []
          },
          "execution_count": 2
        }
      ]
    },
    {
      "cell_type": "code",
      "metadata": {
        "colab": {
          "base_uri": "https://localhost:8080/"
        },
        "id": "q2o9afId63GJ",
        "outputId": "6bfc3762-aeda-4303-e413-f5fb71f31b7a"
      },
      "source": [
        "data.info()"
      ],
      "execution_count": null,
      "outputs": [
        {
          "output_type": "stream",
          "text": [
            "<class 'pandas.core.frame.DataFrame'>\n",
            "RangeIndex: 22750 entries, 0 to 22749\n",
            "Data columns (total 9 columns):\n",
            " #   Column                Non-Null Count  Dtype  \n",
            "---  ------                --------------  -----  \n",
            " 0   Employee ID           22750 non-null  object \n",
            " 1   Date of Joining       22750 non-null  object \n",
            " 2   Gender                22750 non-null  object \n",
            " 3   Company Type          22750 non-null  object \n",
            " 4   WFH Setup Available   22750 non-null  object \n",
            " 5   Designation           22750 non-null  float64\n",
            " 6   Resource Allocation   21369 non-null  float64\n",
            " 7   Mental Fatigue Score  20633 non-null  float64\n",
            " 8   Burn Rate             21626 non-null  float64\n",
            "dtypes: float64(4), object(5)\n",
            "memory usage: 1.6+ MB\n"
          ],
          "name": "stdout"
        }
      ]
    },
    {
      "cell_type": "markdown",
      "metadata": {
        "id": "GI1_BPv06_5L"
      },
      "source": [
        "<h3>from data.info(), we got 3 columns with missing values"
      ]
    },
    {
      "cell_type": "markdown",
      "metadata": {
        "id": "ycChK3K77ZRR"
      },
      "source": [
        "**<h1> Preprocessing**"
      ]
    },
    {
      "cell_type": "code",
      "metadata": {
        "id": "nNiCh-wbJCC4"
      },
      "source": [
        "# get preprocess_input_mental function from preprocessing.py in colab\n",
        "# if wanna edit hv to edit in preprocessing.py\n",
        "\n",
        "#colab file path\n",
        "%run '/content/function/preprocessing.py'\n",
        "## import preprocess_input_mental(df)"
      ],
      "execution_count": null,
      "outputs": []
    },
    {
      "cell_type": "markdown",
      "metadata": {
        "id": "te9tERU8Kcja"
      },
      "source": [
        "<h2> Pre-preprocssing Result- check fore preprocessing\n"
      ]
    },
    {
      "cell_type": "code",
      "metadata": {
        "id": "7pOrOjx0-RkP"
      },
      "source": [
        "#X.info()"
      ],
      "execution_count": null,
      "outputs": []
    },
    {
      "cell_type": "code",
      "metadata": {
        "id": "oNwtnSKX75Wb"
      },
      "source": [
        "#{column : len(X[column].unique()) for column in X.columns}"
      ],
      "execution_count": null,
      "outputs": []
    },
    {
      "cell_type": "markdown",
      "metadata": {
        "id": "LGGb4yZXKyMD"
      },
      "source": [
        "<h2> Preprocessing result"
      ]
    },
    {
      "cell_type": "code",
      "metadata": {
        "id": "ueuexxVV7pDI"
      },
      "source": [
        "df = preprocess_input_mental(data)"
      ],
      "execution_count": null,
      "outputs": []
    },
    {
      "cell_type": "code",
      "metadata": {
        "colab": {
          "base_uri": "https://localhost:8080/",
          "height": 406
        },
        "id": "pM34k8h9FMwJ",
        "outputId": "10c15ca5-696f-4201-955d-c38ca7517649"
      },
      "source": [
        "df"
      ],
      "execution_count": null,
      "outputs": [
        {
          "output_type": "execute_result",
          "data": {
            "text/html": [
              "<div>\n",
              "<style scoped>\n",
              "    .dataframe tbody tr th:only-of-type {\n",
              "        vertical-align: middle;\n",
              "    }\n",
              "\n",
              "    .dataframe tbody tr th {\n",
              "        vertical-align: top;\n",
              "    }\n",
              "\n",
              "    .dataframe thead th {\n",
              "        text-align: right;\n",
              "    }\n",
              "</style>\n",
              "<table border=\"1\" class=\"dataframe\">\n",
              "  <thead>\n",
              "    <tr style=\"text-align: right;\">\n",
              "      <th></th>\n",
              "      <th>Gender</th>\n",
              "      <th>Company Type</th>\n",
              "      <th>WFH Setup Available</th>\n",
              "      <th>Designation</th>\n",
              "      <th>Resource Allocation</th>\n",
              "      <th>Mental Fatigue Score</th>\n",
              "      <th>Join Month</th>\n",
              "      <th>Join Day</th>\n",
              "      <th>Burn Rate</th>\n",
              "    </tr>\n",
              "  </thead>\n",
              "  <tbody>\n",
              "    <tr>\n",
              "      <th>0</th>\n",
              "      <td>0.0</td>\n",
              "      <td>1.0</td>\n",
              "      <td>0.0</td>\n",
              "      <td>0.4</td>\n",
              "      <td>0.222222</td>\n",
              "      <td>0.380000</td>\n",
              "      <td>0.727273</td>\n",
              "      <td>0.966667</td>\n",
              "      <td>0.16</td>\n",
              "    </tr>\n",
              "    <tr>\n",
              "      <th>1</th>\n",
              "      <td>1.0</td>\n",
              "      <td>1.0</td>\n",
              "      <td>1.0</td>\n",
              "      <td>0.2</td>\n",
              "      <td>0.111111</td>\n",
              "      <td>0.500000</td>\n",
              "      <td>0.909091</td>\n",
              "      <td>0.966667</td>\n",
              "      <td>0.36</td>\n",
              "    </tr>\n",
              "    <tr>\n",
              "      <th>2</th>\n",
              "      <td>0.0</td>\n",
              "      <td>0.0</td>\n",
              "      <td>1.0</td>\n",
              "      <td>0.4</td>\n",
              "      <td>0.387092</td>\n",
              "      <td>0.580000</td>\n",
              "      <td>0.181818</td>\n",
              "      <td>0.300000</td>\n",
              "      <td>0.49</td>\n",
              "    </tr>\n",
              "    <tr>\n",
              "      <th>3</th>\n",
              "      <td>1.0</td>\n",
              "      <td>1.0</td>\n",
              "      <td>1.0</td>\n",
              "      <td>0.2</td>\n",
              "      <td>0.000000</td>\n",
              "      <td>0.260000</td>\n",
              "      <td>0.909091</td>\n",
              "      <td>0.066667</td>\n",
              "      <td>0.20</td>\n",
              "    </tr>\n",
              "    <tr>\n",
              "      <th>4</th>\n",
              "      <td>0.0</td>\n",
              "      <td>1.0</td>\n",
              "      <td>0.0</td>\n",
              "      <td>0.6</td>\n",
              "      <td>0.666667</td>\n",
              "      <td>0.690000</td>\n",
              "      <td>0.545455</td>\n",
              "      <td>0.766667</td>\n",
              "      <td>0.52</td>\n",
              "    </tr>\n",
              "    <tr>\n",
              "      <th>...</th>\n",
              "      <td>...</td>\n",
              "      <td>...</td>\n",
              "      <td>...</td>\n",
              "      <td>...</td>\n",
              "      <td>...</td>\n",
              "      <td>...</td>\n",
              "      <td>...</td>\n",
              "      <td>...</td>\n",
              "      <td>...</td>\n",
              "    </tr>\n",
              "    <tr>\n",
              "      <th>21621</th>\n",
              "      <td>0.0</td>\n",
              "      <td>1.0</td>\n",
              "      <td>0.0</td>\n",
              "      <td>0.2</td>\n",
              "      <td>0.222222</td>\n",
              "      <td>0.572985</td>\n",
              "      <td>1.000000</td>\n",
              "      <td>0.966667</td>\n",
              "      <td>0.41</td>\n",
              "    </tr>\n",
              "    <tr>\n",
              "      <th>21622</th>\n",
              "      <td>0.0</td>\n",
              "      <td>0.0</td>\n",
              "      <td>1.0</td>\n",
              "      <td>0.6</td>\n",
              "      <td>0.555556</td>\n",
              "      <td>0.670000</td>\n",
              "      <td>0.000000</td>\n",
              "      <td>0.600000</td>\n",
              "      <td>0.59</td>\n",
              "    </tr>\n",
              "    <tr>\n",
              "      <th>21623</th>\n",
              "      <td>1.0</td>\n",
              "      <td>1.0</td>\n",
              "      <td>1.0</td>\n",
              "      <td>0.6</td>\n",
              "      <td>0.666667</td>\n",
              "      <td>0.572985</td>\n",
              "      <td>0.909091</td>\n",
              "      <td>0.133333</td>\n",
              "      <td>0.72</td>\n",
              "    </tr>\n",
              "    <tr>\n",
              "      <th>21624</th>\n",
              "      <td>0.0</td>\n",
              "      <td>1.0</td>\n",
              "      <td>0.0</td>\n",
              "      <td>0.4</td>\n",
              "      <td>0.444444</td>\n",
              "      <td>0.590000</td>\n",
              "      <td>0.000000</td>\n",
              "      <td>0.300000</td>\n",
              "      <td>0.52</td>\n",
              "    </tr>\n",
              "    <tr>\n",
              "      <th>21625</th>\n",
              "      <td>1.0</td>\n",
              "      <td>0.0</td>\n",
              "      <td>0.0</td>\n",
              "      <td>0.6</td>\n",
              "      <td>0.555556</td>\n",
              "      <td>0.780000</td>\n",
              "      <td>0.000000</td>\n",
              "      <td>0.166667</td>\n",
              "      <td>0.61</td>\n",
              "    </tr>\n",
              "  </tbody>\n",
              "</table>\n",
              "<p>21626 rows × 9 columns</p>\n",
              "</div>"
            ],
            "text/plain": [
              "       Gender  Company Type  ...  Join Day  Burn Rate\n",
              "0         0.0           1.0  ...  0.966667       0.16\n",
              "1         1.0           1.0  ...  0.966667       0.36\n",
              "2         0.0           0.0  ...  0.300000       0.49\n",
              "3         1.0           1.0  ...  0.066667       0.20\n",
              "4         0.0           1.0  ...  0.766667       0.52\n",
              "...       ...           ...  ...       ...        ...\n",
              "21621     0.0           1.0  ...  0.966667       0.41\n",
              "21622     0.0           0.0  ...  0.600000       0.59\n",
              "21623     1.0           1.0  ...  0.133333       0.72\n",
              "21624     0.0           1.0  ...  0.300000       0.52\n",
              "21625     1.0           0.0  ...  0.166667       0.61\n",
              "\n",
              "[21626 rows x 9 columns]"
            ]
          },
          "metadata": {
            "tags": []
          },
          "execution_count": 8
        }
      ]
    },
    {
      "cell_type": "code",
      "metadata": {
        "colab": {
          "base_uri": "https://localhost:8080/"
        },
        "id": "w5FNNg8yTfX6",
        "outputId": "aff9894f-2d7b-4bee-c038-80b1891dffb0"
      },
      "source": [
        "df_list = df.values.tolist()\n",
        "df_list[:5]"
      ],
      "execution_count": null,
      "outputs": [
        {
          "output_type": "execute_result",
          "data": {
            "text/plain": [
              "[[0.0,\n",
              "  1.0,\n",
              "  0.0,\n",
              "  0.4,\n",
              "  0.2222222222222222,\n",
              "  0.38,\n",
              "  0.7272727272727273,\n",
              "  0.9666666666666667,\n",
              "  0.16],\n",
              " [1.0,\n",
              "  1.0,\n",
              "  1.0,\n",
              "  0.2,\n",
              "  0.1111111111111111,\n",
              "  0.5,\n",
              "  0.9090909090909091,\n",
              "  0.9666666666666667,\n",
              "  0.36],\n",
              " [0.0,\n",
              "  0.0,\n",
              "  1.0,\n",
              "  0.4,\n",
              "  0.3870923705305463,\n",
              "  0.58,\n",
              "  0.18181818181818182,\n",
              "  0.3,\n",
              "  0.49],\n",
              " [1.0, 1.0, 1.0, 0.2, 0.0, 0.26, 0.9090909090909091, 0.06666666666666667, 0.2],\n",
              " [0.0,\n",
              "  1.0,\n",
              "  0.0,\n",
              "  0.6,\n",
              "  0.6666666666666666,\n",
              "  0.6900000000000001,\n",
              "  0.5454545454545454,\n",
              "  0.7666666666666667,\n",
              "  0.52]]"
            ]
          },
          "metadata": {
            "tags": []
          },
          "execution_count": 9
        }
      ]
    },
    {
      "cell_type": "markdown",
      "metadata": {
        "id": "spadopl2uwfc"
      },
      "source": [
        "<h2> list dataframe train,test (0.8:0.2)"
      ]
    },
    {
      "cell_type": "code",
      "metadata": {
        "colab": {
          "base_uri": "https://localhost:8080/"
        },
        "id": "FkA3uaB-1oTa",
        "outputId": "245b082f-0574-46cb-e0d7-ad48a256396d"
      },
      "source": [
        "import random\n",
        "\n",
        "# shuffle df\n",
        "random.shuffle(df_list, lambda : 0.8)\n",
        "df_list[:2]"
      ],
      "execution_count": null,
      "outputs": [
        {
          "output_type": "execute_result",
          "data": {
            "text/plain": [
              "[[0.0,\n",
              "  1.0,\n",
              "  0.0,\n",
              "  0.4,\n",
              "  0.2222222222222222,\n",
              "  0.38,\n",
              "  0.7272727272727273,\n",
              "  0.9666666666666667,\n",
              "  0.16],\n",
              " [1.0,\n",
              "  1.0,\n",
              "  1.0,\n",
              "  0.2,\n",
              "  0.1111111111111111,\n",
              "  0.5,\n",
              "  0.9090909090909091,\n",
              "  0.9666666666666667,\n",
              "  0.36]]"
            ]
          },
          "metadata": {
            "tags": []
          },
          "execution_count": 10
        }
      ]
    },
    {
      "cell_type": "code",
      "metadata": {
        "colab": {
          "base_uri": "https://localhost:8080/"
        },
        "id": "mSBxEbNs4T1_",
        "outputId": "3ccc8d17-8309-47ed-9bf3-a04da03f6c21"
      },
      "source": [
        "train = df_list[:int(len(df_list)*0.7)]\n",
        "len(train)"
      ],
      "execution_count": null,
      "outputs": [
        {
          "output_type": "execute_result",
          "data": {
            "text/plain": [
              "15138"
            ]
          },
          "metadata": {
            "tags": []
          },
          "execution_count": 11
        }
      ]
    },
    {
      "cell_type": "code",
      "metadata": {
        "colab": {
          "base_uri": "https://localhost:8080/"
        },
        "id": "Mi3vblkm4sjh",
        "outputId": "d967688d-2b0f-4cd5-c46e-9c976acdf536"
      },
      "source": [
        "test = df_list[int(len(df_list)*0.7):]\n",
        "len(test)"
      ],
      "execution_count": null,
      "outputs": [
        {
          "output_type": "execute_result",
          "data": {
            "text/plain": [
              "6488"
            ]
          },
          "metadata": {
            "tags": []
          },
          "execution_count": 12
        }
      ]
    },
    {
      "cell_type": "markdown",
      "metadata": {
        "id": "YGfWjJVluop2"
      },
      "source": [
        "<h2> Pandas dataframe train, test"
      ]
    },
    {
      "cell_type": "code",
      "metadata": {
        "colab": {
          "base_uri": "https://localhost:8080/",
          "height": 406
        },
        "id": "YmE5xRlHJlRJ",
        "outputId": "91cafd17-3c4c-42fc-8824-5884c119acf9"
      },
      "source": [
        "#train to train_df\n",
        "train_df = pd.DataFrame(train, columns=df.columns)\n",
        "train_X = train_df.drop('Burn Rate', axis=1)\n",
        "train_y = train_df['Burn Rate']\n",
        "train_df"
      ],
      "execution_count": null,
      "outputs": [
        {
          "output_type": "execute_result",
          "data": {
            "text/html": [
              "<div>\n",
              "<style scoped>\n",
              "    .dataframe tbody tr th:only-of-type {\n",
              "        vertical-align: middle;\n",
              "    }\n",
              "\n",
              "    .dataframe tbody tr th {\n",
              "        vertical-align: top;\n",
              "    }\n",
              "\n",
              "    .dataframe thead th {\n",
              "        text-align: right;\n",
              "    }\n",
              "</style>\n",
              "<table border=\"1\" class=\"dataframe\">\n",
              "  <thead>\n",
              "    <tr style=\"text-align: right;\">\n",
              "      <th></th>\n",
              "      <th>Gender</th>\n",
              "      <th>Company Type</th>\n",
              "      <th>WFH Setup Available</th>\n",
              "      <th>Designation</th>\n",
              "      <th>Resource Allocation</th>\n",
              "      <th>Mental Fatigue Score</th>\n",
              "      <th>Join Month</th>\n",
              "      <th>Join Day</th>\n",
              "      <th>Burn Rate</th>\n",
              "    </tr>\n",
              "  </thead>\n",
              "  <tbody>\n",
              "    <tr>\n",
              "      <th>0</th>\n",
              "      <td>0.0</td>\n",
              "      <td>1.0</td>\n",
              "      <td>0.0</td>\n",
              "      <td>0.4</td>\n",
              "      <td>0.222222</td>\n",
              "      <td>0.38</td>\n",
              "      <td>0.727273</td>\n",
              "      <td>0.966667</td>\n",
              "      <td>0.16</td>\n",
              "    </tr>\n",
              "    <tr>\n",
              "      <th>1</th>\n",
              "      <td>1.0</td>\n",
              "      <td>1.0</td>\n",
              "      <td>1.0</td>\n",
              "      <td>0.2</td>\n",
              "      <td>0.111111</td>\n",
              "      <td>0.50</td>\n",
              "      <td>0.909091</td>\n",
              "      <td>0.966667</td>\n",
              "      <td>0.36</td>\n",
              "    </tr>\n",
              "    <tr>\n",
              "      <th>2</th>\n",
              "      <td>0.0</td>\n",
              "      <td>0.0</td>\n",
              "      <td>1.0</td>\n",
              "      <td>0.4</td>\n",
              "      <td>0.387092</td>\n",
              "      <td>0.58</td>\n",
              "      <td>0.181818</td>\n",
              "      <td>0.300000</td>\n",
              "      <td>0.49</td>\n",
              "    </tr>\n",
              "    <tr>\n",
              "      <th>3</th>\n",
              "      <td>1.0</td>\n",
              "      <td>1.0</td>\n",
              "      <td>1.0</td>\n",
              "      <td>0.2</td>\n",
              "      <td>0.000000</td>\n",
              "      <td>0.26</td>\n",
              "      <td>0.909091</td>\n",
              "      <td>0.066667</td>\n",
              "      <td>0.20</td>\n",
              "    </tr>\n",
              "    <tr>\n",
              "      <th>4</th>\n",
              "      <td>0.0</td>\n",
              "      <td>1.0</td>\n",
              "      <td>1.0</td>\n",
              "      <td>0.2</td>\n",
              "      <td>0.222222</td>\n",
              "      <td>0.59</td>\n",
              "      <td>0.000000</td>\n",
              "      <td>0.533333</td>\n",
              "      <td>0.42</td>\n",
              "    </tr>\n",
              "    <tr>\n",
              "      <th>...</th>\n",
              "      <td>...</td>\n",
              "      <td>...</td>\n",
              "      <td>...</td>\n",
              "      <td>...</td>\n",
              "      <td>...</td>\n",
              "      <td>...</td>\n",
              "      <td>...</td>\n",
              "      <td>...</td>\n",
              "      <td>...</td>\n",
              "    </tr>\n",
              "    <tr>\n",
              "      <th>15133</th>\n",
              "      <td>0.0</td>\n",
              "      <td>1.0</td>\n",
              "      <td>0.0</td>\n",
              "      <td>0.2</td>\n",
              "      <td>0.000000</td>\n",
              "      <td>0.43</td>\n",
              "      <td>0.000000</td>\n",
              "      <td>0.033333</td>\n",
              "      <td>0.20</td>\n",
              "    </tr>\n",
              "    <tr>\n",
              "      <th>15134</th>\n",
              "      <td>0.0</td>\n",
              "      <td>1.0</td>\n",
              "      <td>1.0</td>\n",
              "      <td>0.2</td>\n",
              "      <td>0.000000</td>\n",
              "      <td>0.00</td>\n",
              "      <td>0.000000</td>\n",
              "      <td>0.133333</td>\n",
              "      <td>0.00</td>\n",
              "    </tr>\n",
              "    <tr>\n",
              "      <th>15135</th>\n",
              "      <td>0.0</td>\n",
              "      <td>1.0</td>\n",
              "      <td>1.0</td>\n",
              "      <td>0.6</td>\n",
              "      <td>0.333333</td>\n",
              "      <td>0.55</td>\n",
              "      <td>0.181818</td>\n",
              "      <td>0.400000</td>\n",
              "      <td>0.40</td>\n",
              "    </tr>\n",
              "    <tr>\n",
              "      <th>15136</th>\n",
              "      <td>0.0</td>\n",
              "      <td>1.0</td>\n",
              "      <td>1.0</td>\n",
              "      <td>0.4</td>\n",
              "      <td>0.333333</td>\n",
              "      <td>0.78</td>\n",
              "      <td>0.545455</td>\n",
              "      <td>0.333333</td>\n",
              "      <td>0.57</td>\n",
              "    </tr>\n",
              "    <tr>\n",
              "      <th>15137</th>\n",
              "      <td>1.0</td>\n",
              "      <td>0.0</td>\n",
              "      <td>1.0</td>\n",
              "      <td>0.2</td>\n",
              "      <td>0.111111</td>\n",
              "      <td>0.37</td>\n",
              "      <td>0.181818</td>\n",
              "      <td>0.433333</td>\n",
              "      <td>0.28</td>\n",
              "    </tr>\n",
              "  </tbody>\n",
              "</table>\n",
              "<p>15138 rows × 9 columns</p>\n",
              "</div>"
            ],
            "text/plain": [
              "       Gender  Company Type  ...  Join Day  Burn Rate\n",
              "0         0.0           1.0  ...  0.966667       0.16\n",
              "1         1.0           1.0  ...  0.966667       0.36\n",
              "2         0.0           0.0  ...  0.300000       0.49\n",
              "3         1.0           1.0  ...  0.066667       0.20\n",
              "4         0.0           1.0  ...  0.533333       0.42\n",
              "...       ...           ...  ...       ...        ...\n",
              "15133     0.0           1.0  ...  0.033333       0.20\n",
              "15134     0.0           1.0  ...  0.133333       0.00\n",
              "15135     0.0           1.0  ...  0.400000       0.40\n",
              "15136     0.0           1.0  ...  0.333333       0.57\n",
              "15137     1.0           0.0  ...  0.433333       0.28\n",
              "\n",
              "[15138 rows x 9 columns]"
            ]
          },
          "metadata": {
            "tags": []
          },
          "execution_count": 13
        }
      ]
    },
    {
      "cell_type": "code",
      "metadata": {
        "colab": {
          "base_uri": "https://localhost:8080/",
          "height": 406
        },
        "id": "IauJuALIWXBa",
        "outputId": "7381590f-50dd-44ff-e6a1-fe2cf53b6a82"
      },
      "source": [
        "test_df = pd.DataFrame(test, columns=df.columns)\n",
        "test_X = test_df.drop('Burn Rate', axis=1)\n",
        "test_y = test_df['Burn Rate']\n",
        "test_df"
      ],
      "execution_count": null,
      "outputs": [
        {
          "output_type": "execute_result",
          "data": {
            "text/html": [
              "<div>\n",
              "<style scoped>\n",
              "    .dataframe tbody tr th:only-of-type {\n",
              "        vertical-align: middle;\n",
              "    }\n",
              "\n",
              "    .dataframe tbody tr th {\n",
              "        vertical-align: top;\n",
              "    }\n",
              "\n",
              "    .dataframe thead th {\n",
              "        text-align: right;\n",
              "    }\n",
              "</style>\n",
              "<table border=\"1\" class=\"dataframe\">\n",
              "  <thead>\n",
              "    <tr style=\"text-align: right;\">\n",
              "      <th></th>\n",
              "      <th>Gender</th>\n",
              "      <th>Company Type</th>\n",
              "      <th>WFH Setup Available</th>\n",
              "      <th>Designation</th>\n",
              "      <th>Resource Allocation</th>\n",
              "      <th>Mental Fatigue Score</th>\n",
              "      <th>Join Month</th>\n",
              "      <th>Join Day</th>\n",
              "      <th>Burn Rate</th>\n",
              "    </tr>\n",
              "  </thead>\n",
              "  <tbody>\n",
              "    <tr>\n",
              "      <th>0</th>\n",
              "      <td>0.0</td>\n",
              "      <td>1.0</td>\n",
              "      <td>1.0</td>\n",
              "      <td>0.6</td>\n",
              "      <td>0.444444</td>\n",
              "      <td>0.540000</td>\n",
              "      <td>0.727273</td>\n",
              "      <td>0.333333</td>\n",
              "      <td>0.50</td>\n",
              "    </tr>\n",
              "    <tr>\n",
              "      <th>1</th>\n",
              "      <td>0.0</td>\n",
              "      <td>1.0</td>\n",
              "      <td>1.0</td>\n",
              "      <td>0.4</td>\n",
              "      <td>0.555556</td>\n",
              "      <td>0.900000</td>\n",
              "      <td>0.636364</td>\n",
              "      <td>0.466667</td>\n",
              "      <td>0.72</td>\n",
              "    </tr>\n",
              "    <tr>\n",
              "      <th>2</th>\n",
              "      <td>1.0</td>\n",
              "      <td>1.0</td>\n",
              "      <td>0.0</td>\n",
              "      <td>0.2</td>\n",
              "      <td>0.111111</td>\n",
              "      <td>0.572985</td>\n",
              "      <td>0.090909</td>\n",
              "      <td>0.533333</td>\n",
              "      <td>0.33</td>\n",
              "    </tr>\n",
              "    <tr>\n",
              "      <th>3</th>\n",
              "      <td>1.0</td>\n",
              "      <td>1.0</td>\n",
              "      <td>1.0</td>\n",
              "      <td>0.4</td>\n",
              "      <td>0.444444</td>\n",
              "      <td>0.640000</td>\n",
              "      <td>0.818182</td>\n",
              "      <td>0.766667</td>\n",
              "      <td>0.50</td>\n",
              "    </tr>\n",
              "    <tr>\n",
              "      <th>4</th>\n",
              "      <td>1.0</td>\n",
              "      <td>0.0</td>\n",
              "      <td>0.0</td>\n",
              "      <td>0.2</td>\n",
              "      <td>0.000000</td>\n",
              "      <td>0.360000</td>\n",
              "      <td>0.363636</td>\n",
              "      <td>0.966667</td>\n",
              "      <td>0.29</td>\n",
              "    </tr>\n",
              "    <tr>\n",
              "      <th>...</th>\n",
              "      <td>...</td>\n",
              "      <td>...</td>\n",
              "      <td>...</td>\n",
              "      <td>...</td>\n",
              "      <td>...</td>\n",
              "      <td>...</td>\n",
              "      <td>...</td>\n",
              "      <td>...</td>\n",
              "      <td>...</td>\n",
              "    </tr>\n",
              "    <tr>\n",
              "      <th>6483</th>\n",
              "      <td>0.0</td>\n",
              "      <td>1.0</td>\n",
              "      <td>0.0</td>\n",
              "      <td>0.6</td>\n",
              "      <td>0.555556</td>\n",
              "      <td>0.550000</td>\n",
              "      <td>0.818182</td>\n",
              "      <td>0.733333</td>\n",
              "      <td>0.49</td>\n",
              "    </tr>\n",
              "    <tr>\n",
              "      <th>6484</th>\n",
              "      <td>0.0</td>\n",
              "      <td>1.0</td>\n",
              "      <td>0.0</td>\n",
              "      <td>0.8</td>\n",
              "      <td>0.666667</td>\n",
              "      <td>0.750000</td>\n",
              "      <td>0.545455</td>\n",
              "      <td>0.866667</td>\n",
              "      <td>0.61</td>\n",
              "    </tr>\n",
              "    <tr>\n",
              "      <th>6485</th>\n",
              "      <td>0.0</td>\n",
              "      <td>0.0</td>\n",
              "      <td>1.0</td>\n",
              "      <td>0.4</td>\n",
              "      <td>0.333333</td>\n",
              "      <td>0.460000</td>\n",
              "      <td>0.545455</td>\n",
              "      <td>0.100000</td>\n",
              "      <td>0.41</td>\n",
              "    </tr>\n",
              "    <tr>\n",
              "      <th>6486</th>\n",
              "      <td>1.0</td>\n",
              "      <td>0.0</td>\n",
              "      <td>0.0</td>\n",
              "      <td>0.6</td>\n",
              "      <td>0.555556</td>\n",
              "      <td>0.780000</td>\n",
              "      <td>0.000000</td>\n",
              "      <td>0.166667</td>\n",
              "      <td>0.61</td>\n",
              "    </tr>\n",
              "    <tr>\n",
              "      <th>6487</th>\n",
              "      <td>0.0</td>\n",
              "      <td>1.0</td>\n",
              "      <td>0.0</td>\n",
              "      <td>0.6</td>\n",
              "      <td>0.555556</td>\n",
              "      <td>0.670000</td>\n",
              "      <td>0.272727</td>\n",
              "      <td>0.166667</td>\n",
              "      <td>0.56</td>\n",
              "    </tr>\n",
              "  </tbody>\n",
              "</table>\n",
              "<p>6488 rows × 9 columns</p>\n",
              "</div>"
            ],
            "text/plain": [
              "      Gender  Company Type  ...  Join Day  Burn Rate\n",
              "0        0.0           1.0  ...  0.333333       0.50\n",
              "1        0.0           1.0  ...  0.466667       0.72\n",
              "2        1.0           1.0  ...  0.533333       0.33\n",
              "3        1.0           1.0  ...  0.766667       0.50\n",
              "4        1.0           0.0  ...  0.966667       0.29\n",
              "...      ...           ...  ...       ...        ...\n",
              "6483     0.0           1.0  ...  0.733333       0.49\n",
              "6484     0.0           1.0  ...  0.866667       0.61\n",
              "6485     0.0           0.0  ...  0.100000       0.41\n",
              "6486     1.0           0.0  ...  0.166667       0.61\n",
              "6487     0.0           1.0  ...  0.166667       0.56\n",
              "\n",
              "[6488 rows x 9 columns]"
            ]
          },
          "metadata": {
            "tags": []
          },
          "execution_count": 14
        }
      ]
    },
    {
      "cell_type": "markdown",
      "metadata": {
        "id": "ghz4qGINLLut"
      },
      "source": [
        "**<h1> Training**"
      ]
    },
    {
      "cell_type": "code",
      "metadata": {
        "id": "7cOgtTHNtAWn"
      },
      "source": [
        "models = dict()"
      ],
      "execution_count": null,
      "outputs": []
    },
    {
      "cell_type": "code",
      "metadata": {
        "id": "NZXagoLNbg68"
      },
      "source": [
        "# training algorithm seed\n",
        "random.seed(1)"
      ],
      "execution_count": null,
      "outputs": []
    },
    {
      "cell_type": "markdown",
      "metadata": {
        "id": "8OBLlh9PLEGf"
      },
      "source": [
        "<h2> Evaluate function"
      ]
    },
    {
      "cell_type": "code",
      "metadata": {
        "id": "RUhFn4lrKaBM"
      },
      "source": [
        "# get functions from evaluate.py in colab\n",
        "# if wanna edit hv to edit in evaluate.py\n",
        "\n",
        "#colab file path\n",
        "%run '/content/function/evaluate.py'\n",
        "## import evaluate_algorithm"
      ],
      "execution_count": null,
      "outputs": []
    },
    {
      "cell_type": "markdown",
      "metadata": {
        "id": "DV-Y_sgBJ3-V"
      },
      "source": [
        "<h2> Neural Network"
      ]
    },
    {
      "cell_type": "code",
      "metadata": {
        "id": "jikBD0-VJ9V5"
      },
      "source": [
        "# get functions from neural_network.py in colab\n",
        "# if wanna edit hv to edit in neural_network.py\n",
        "\n",
        "#colab file path\n",
        "%run '/content/model/neural_network.py'\n",
        "## import back_propagation"
      ],
      "execution_count": null,
      "outputs": []
    },
    {
      "cell_type": "code",
      "metadata": {
        "colab": {
          "base_uri": "https://localhost:8080/"
        },
        "id": "-z4tCwev5F5i",
        "outputId": "b71dd69d-2630-41a2-e61e-eff17b4fb24c"
      },
      "source": [
        "nn_pred = back_propagation(train, test, 0.1, 500, 10)\n",
        "nn_pred[:10]"
      ],
      "execution_count": null,
      "outputs": [
        {
          "output_type": "stream",
          "text": [
            ">epoch=0, lrate=0.100, error=514.809\n",
            ">epoch=1, lrate=0.100, error=114.724\n",
            ">epoch=2, lrate=0.100, error=91.037\n",
            ">epoch=3, lrate=0.100, error=84.657\n",
            ">epoch=4, lrate=0.100, error=83.381\n",
            ">epoch=5, lrate=0.100, error=83.065\n",
            ">epoch=6, lrate=0.100, error=82.915\n",
            ">epoch=7, lrate=0.100, error=82.805\n",
            ">epoch=8, lrate=0.100, error=82.711\n",
            ">epoch=9, lrate=0.100, error=82.624\n",
            ">epoch=10, lrate=0.100, error=82.544\n",
            ">epoch=11, lrate=0.100, error=82.469\n",
            ">epoch=12, lrate=0.100, error=82.397\n",
            ">epoch=13, lrate=0.100, error=82.329\n",
            ">epoch=14, lrate=0.100, error=82.265\n",
            ">epoch=15, lrate=0.100, error=82.204\n",
            ">epoch=16, lrate=0.100, error=82.146\n",
            ">epoch=17, lrate=0.100, error=82.090\n",
            ">epoch=18, lrate=0.100, error=82.037\n",
            ">epoch=19, lrate=0.100, error=81.987\n",
            ">epoch=20, lrate=0.100, error=81.939\n",
            ">epoch=21, lrate=0.100, error=81.893\n",
            ">epoch=22, lrate=0.100, error=81.848\n",
            ">epoch=23, lrate=0.100, error=81.806\n",
            ">epoch=24, lrate=0.100, error=81.766\n",
            ">epoch=25, lrate=0.100, error=81.727\n",
            ">epoch=26, lrate=0.100, error=81.689\n",
            ">epoch=27, lrate=0.100, error=81.653\n",
            ">epoch=28, lrate=0.100, error=81.619\n",
            ">epoch=29, lrate=0.100, error=81.585\n",
            ">epoch=30, lrate=0.100, error=81.553\n",
            ">epoch=31, lrate=0.100, error=81.522\n",
            ">epoch=32, lrate=0.100, error=81.492\n",
            ">epoch=33, lrate=0.100, error=81.463\n",
            ">epoch=34, lrate=0.100, error=81.435\n",
            ">epoch=35, lrate=0.100, error=81.408\n",
            ">epoch=36, lrate=0.100, error=81.382\n",
            ">epoch=37, lrate=0.100, error=81.356\n",
            ">epoch=38, lrate=0.100, error=81.331\n",
            ">epoch=39, lrate=0.100, error=81.307\n",
            ">epoch=40, lrate=0.100, error=81.284\n",
            ">epoch=41, lrate=0.100, error=81.261\n",
            ">epoch=42, lrate=0.100, error=81.239\n",
            ">epoch=43, lrate=0.100, error=81.217\n",
            ">epoch=44, lrate=0.100, error=81.196\n",
            ">epoch=45, lrate=0.100, error=81.175\n",
            ">epoch=46, lrate=0.100, error=81.155\n",
            ">epoch=47, lrate=0.100, error=81.135\n",
            ">epoch=48, lrate=0.100, error=81.116\n",
            ">epoch=49, lrate=0.100, error=81.097\n",
            ">epoch=50, lrate=0.100, error=81.079\n",
            ">epoch=51, lrate=0.100, error=81.060\n",
            ">epoch=52, lrate=0.100, error=81.043\n",
            ">epoch=53, lrate=0.100, error=81.025\n",
            ">epoch=54, lrate=0.100, error=81.008\n",
            ">epoch=55, lrate=0.100, error=80.991\n",
            ">epoch=56, lrate=0.100, error=80.975\n",
            ">epoch=57, lrate=0.100, error=80.958\n",
            ">epoch=58, lrate=0.100, error=80.943\n",
            ">epoch=59, lrate=0.100, error=80.927\n",
            ">epoch=60, lrate=0.100, error=80.912\n",
            ">epoch=61, lrate=0.100, error=80.897\n",
            ">epoch=62, lrate=0.100, error=80.882\n",
            ">epoch=63, lrate=0.100, error=80.867\n",
            ">epoch=64, lrate=0.100, error=80.853\n",
            ">epoch=65, lrate=0.100, error=80.839\n",
            ">epoch=66, lrate=0.100, error=80.825\n",
            ">epoch=67, lrate=0.100, error=80.812\n",
            ">epoch=68, lrate=0.100, error=80.799\n",
            ">epoch=69, lrate=0.100, error=80.786\n",
            ">epoch=70, lrate=0.100, error=80.773\n",
            ">epoch=71, lrate=0.100, error=80.760\n",
            ">epoch=72, lrate=0.100, error=80.748\n",
            ">epoch=73, lrate=0.100, error=80.736\n",
            ">epoch=74, lrate=0.100, error=80.724\n",
            ">epoch=75, lrate=0.100, error=80.712\n",
            ">epoch=76, lrate=0.100, error=80.700\n",
            ">epoch=77, lrate=0.100, error=80.689\n",
            ">epoch=78, lrate=0.100, error=80.677\n",
            ">epoch=79, lrate=0.100, error=80.666\n",
            ">epoch=80, lrate=0.100, error=80.655\n",
            ">epoch=81, lrate=0.100, error=80.644\n",
            ">epoch=82, lrate=0.100, error=80.634\n",
            ">epoch=83, lrate=0.100, error=80.623\n",
            ">epoch=84, lrate=0.100, error=80.613\n",
            ">epoch=85, lrate=0.100, error=80.603\n",
            ">epoch=86, lrate=0.100, error=80.592\n",
            ">epoch=87, lrate=0.100, error=80.582\n",
            ">epoch=88, lrate=0.100, error=80.573\n",
            ">epoch=89, lrate=0.100, error=80.563\n",
            ">epoch=90, lrate=0.100, error=80.553\n",
            ">epoch=91, lrate=0.100, error=80.544\n",
            ">epoch=92, lrate=0.100, error=80.535\n",
            ">epoch=93, lrate=0.100, error=80.525\n",
            ">epoch=94, lrate=0.100, error=80.516\n",
            ">epoch=95, lrate=0.100, error=80.507\n",
            ">epoch=96, lrate=0.100, error=80.498\n",
            ">epoch=97, lrate=0.100, error=80.490\n",
            ">epoch=98, lrate=0.100, error=80.481\n",
            ">epoch=99, lrate=0.100, error=80.473\n",
            ">epoch=100, lrate=0.100, error=80.464\n",
            ">epoch=101, lrate=0.100, error=80.456\n",
            ">epoch=102, lrate=0.100, error=80.448\n",
            ">epoch=103, lrate=0.100, error=80.440\n",
            ">epoch=104, lrate=0.100, error=80.432\n",
            ">epoch=105, lrate=0.100, error=80.424\n",
            ">epoch=106, lrate=0.100, error=80.416\n",
            ">epoch=107, lrate=0.100, error=80.408\n",
            ">epoch=108, lrate=0.100, error=80.401\n",
            ">epoch=109, lrate=0.100, error=80.393\n",
            ">epoch=110, lrate=0.100, error=80.386\n",
            ">epoch=111, lrate=0.100, error=80.379\n",
            ">epoch=112, lrate=0.100, error=80.371\n",
            ">epoch=113, lrate=0.100, error=80.364\n",
            ">epoch=114, lrate=0.100, error=80.357\n",
            ">epoch=115, lrate=0.100, error=80.350\n",
            ">epoch=116, lrate=0.100, error=80.343\n",
            ">epoch=117, lrate=0.100, error=80.336\n",
            ">epoch=118, lrate=0.100, error=80.330\n",
            ">epoch=119, lrate=0.100, error=80.323\n",
            ">epoch=120, lrate=0.100, error=80.316\n",
            ">epoch=121, lrate=0.100, error=80.310\n",
            ">epoch=122, lrate=0.100, error=80.303\n",
            ">epoch=123, lrate=0.100, error=80.297\n",
            ">epoch=124, lrate=0.100, error=80.290\n",
            ">epoch=125, lrate=0.100, error=80.284\n",
            ">epoch=126, lrate=0.100, error=80.278\n",
            ">epoch=127, lrate=0.100, error=80.272\n",
            ">epoch=128, lrate=0.100, error=80.266\n",
            ">epoch=129, lrate=0.100, error=80.260\n",
            ">epoch=130, lrate=0.100, error=80.254\n",
            ">epoch=131, lrate=0.100, error=80.248\n",
            ">epoch=132, lrate=0.100, error=80.242\n",
            ">epoch=133, lrate=0.100, error=80.236\n",
            ">epoch=134, lrate=0.100, error=80.230\n",
            ">epoch=135, lrate=0.100, error=80.224\n",
            ">epoch=136, lrate=0.100, error=80.218\n",
            ">epoch=137, lrate=0.100, error=80.213\n",
            ">epoch=138, lrate=0.100, error=80.207\n",
            ">epoch=139, lrate=0.100, error=80.201\n",
            ">epoch=140, lrate=0.100, error=80.196\n",
            ">epoch=141, lrate=0.100, error=80.190\n",
            ">epoch=142, lrate=0.100, error=80.185\n",
            ">epoch=143, lrate=0.100, error=80.179\n",
            ">epoch=144, lrate=0.100, error=80.174\n",
            ">epoch=145, lrate=0.100, error=80.168\n",
            ">epoch=146, lrate=0.100, error=80.163\n",
            ">epoch=147, lrate=0.100, error=80.157\n",
            ">epoch=148, lrate=0.100, error=80.152\n",
            ">epoch=149, lrate=0.100, error=80.147\n",
            ">epoch=150, lrate=0.100, error=80.141\n",
            ">epoch=151, lrate=0.100, error=80.136\n",
            ">epoch=152, lrate=0.100, error=80.131\n",
            ">epoch=153, lrate=0.100, error=80.126\n",
            ">epoch=154, lrate=0.100, error=80.121\n",
            ">epoch=155, lrate=0.100, error=80.115\n",
            ">epoch=156, lrate=0.100, error=80.110\n",
            ">epoch=157, lrate=0.100, error=80.105\n",
            ">epoch=158, lrate=0.100, error=80.100\n",
            ">epoch=159, lrate=0.100, error=80.095\n",
            ">epoch=160, lrate=0.100, error=80.090\n",
            ">epoch=161, lrate=0.100, error=80.085\n",
            ">epoch=162, lrate=0.100, error=80.080\n",
            ">epoch=163, lrate=0.100, error=80.075\n",
            ">epoch=164, lrate=0.100, error=80.070\n",
            ">epoch=165, lrate=0.100, error=80.065\n",
            ">epoch=166, lrate=0.100, error=80.060\n",
            ">epoch=167, lrate=0.100, error=80.055\n",
            ">epoch=168, lrate=0.100, error=80.050\n",
            ">epoch=169, lrate=0.100, error=80.045\n",
            ">epoch=170, lrate=0.100, error=80.040\n",
            ">epoch=171, lrate=0.100, error=80.035\n",
            ">epoch=172, lrate=0.100, error=80.030\n",
            ">epoch=173, lrate=0.100, error=80.026\n",
            ">epoch=174, lrate=0.100, error=80.021\n",
            ">epoch=175, lrate=0.100, error=80.016\n",
            ">epoch=176, lrate=0.100, error=80.011\n",
            ">epoch=177, lrate=0.100, error=80.006\n",
            ">epoch=178, lrate=0.100, error=80.001\n",
            ">epoch=179, lrate=0.100, error=79.997\n",
            ">epoch=180, lrate=0.100, error=79.992\n",
            ">epoch=181, lrate=0.100, error=79.987\n",
            ">epoch=182, lrate=0.100, error=79.982\n",
            ">epoch=183, lrate=0.100, error=79.978\n",
            ">epoch=184, lrate=0.100, error=79.973\n",
            ">epoch=185, lrate=0.100, error=79.968\n",
            ">epoch=186, lrate=0.100, error=79.964\n",
            ">epoch=187, lrate=0.100, error=79.959\n",
            ">epoch=188, lrate=0.100, error=79.954\n",
            ">epoch=189, lrate=0.100, error=79.950\n",
            ">epoch=190, lrate=0.100, error=79.945\n",
            ">epoch=191, lrate=0.100, error=79.940\n",
            ">epoch=192, lrate=0.100, error=79.936\n",
            ">epoch=193, lrate=0.100, error=79.931\n",
            ">epoch=194, lrate=0.100, error=79.927\n",
            ">epoch=195, lrate=0.100, error=79.922\n",
            ">epoch=196, lrate=0.100, error=79.918\n",
            ">epoch=197, lrate=0.100, error=79.913\n",
            ">epoch=198, lrate=0.100, error=79.909\n",
            ">epoch=199, lrate=0.100, error=79.904\n",
            ">epoch=200, lrate=0.100, error=79.899\n",
            ">epoch=201, lrate=0.100, error=79.895\n",
            ">epoch=202, lrate=0.100, error=79.891\n",
            ">epoch=203, lrate=0.100, error=79.886\n",
            ">epoch=204, lrate=0.100, error=79.882\n",
            ">epoch=205, lrate=0.100, error=79.877\n",
            ">epoch=206, lrate=0.100, error=79.873\n",
            ">epoch=207, lrate=0.100, error=79.868\n",
            ">epoch=208, lrate=0.100, error=79.864\n",
            ">epoch=209, lrate=0.100, error=79.860\n",
            ">epoch=210, lrate=0.100, error=79.855\n",
            ">epoch=211, lrate=0.100, error=79.851\n",
            ">epoch=212, lrate=0.100, error=79.846\n",
            ">epoch=213, lrate=0.100, error=79.842\n",
            ">epoch=214, lrate=0.100, error=79.838\n",
            ">epoch=215, lrate=0.100, error=79.833\n",
            ">epoch=216, lrate=0.100, error=79.829\n",
            ">epoch=217, lrate=0.100, error=79.825\n",
            ">epoch=218, lrate=0.100, error=79.820\n",
            ">epoch=219, lrate=0.100, error=79.816\n",
            ">epoch=220, lrate=0.100, error=79.812\n",
            ">epoch=221, lrate=0.100, error=79.807\n",
            ">epoch=222, lrate=0.100, error=79.803\n",
            ">epoch=223, lrate=0.100, error=79.799\n",
            ">epoch=224, lrate=0.100, error=79.795\n",
            ">epoch=225, lrate=0.100, error=79.790\n",
            ">epoch=226, lrate=0.100, error=79.786\n",
            ">epoch=227, lrate=0.100, error=79.782\n",
            ">epoch=228, lrate=0.100, error=79.778\n",
            ">epoch=229, lrate=0.100, error=79.773\n",
            ">epoch=230, lrate=0.100, error=79.769\n",
            ">epoch=231, lrate=0.100, error=79.765\n",
            ">epoch=232, lrate=0.100, error=79.760\n",
            ">epoch=233, lrate=0.100, error=79.756\n",
            ">epoch=234, lrate=0.100, error=79.752\n",
            ">epoch=235, lrate=0.100, error=79.748\n",
            ">epoch=236, lrate=0.100, error=79.743\n",
            ">epoch=237, lrate=0.100, error=79.739\n",
            ">epoch=238, lrate=0.100, error=79.735\n",
            ">epoch=239, lrate=0.100, error=79.730\n",
            ">epoch=240, lrate=0.100, error=79.726\n",
            ">epoch=241, lrate=0.100, error=79.722\n",
            ">epoch=242, lrate=0.100, error=79.717\n",
            ">epoch=243, lrate=0.100, error=79.713\n",
            ">epoch=244, lrate=0.100, error=79.708\n",
            ">epoch=245, lrate=0.100, error=79.704\n",
            ">epoch=246, lrate=0.100, error=79.699\n",
            ">epoch=247, lrate=0.100, error=79.695\n",
            ">epoch=248, lrate=0.100, error=79.690\n",
            ">epoch=249, lrate=0.100, error=79.686\n",
            ">epoch=250, lrate=0.100, error=79.681\n",
            ">epoch=251, lrate=0.100, error=79.677\n",
            ">epoch=252, lrate=0.100, error=79.672\n",
            ">epoch=253, lrate=0.100, error=79.668\n",
            ">epoch=254, lrate=0.100, error=79.663\n",
            ">epoch=255, lrate=0.100, error=79.658\n",
            ">epoch=256, lrate=0.100, error=79.654\n",
            ">epoch=257, lrate=0.100, error=79.649\n",
            ">epoch=258, lrate=0.100, error=79.644\n",
            ">epoch=259, lrate=0.100, error=79.639\n",
            ">epoch=260, lrate=0.100, error=79.634\n",
            ">epoch=261, lrate=0.100, error=79.629\n",
            ">epoch=262, lrate=0.100, error=79.624\n",
            ">epoch=263, lrate=0.100, error=79.619\n",
            ">epoch=264, lrate=0.100, error=79.614\n",
            ">epoch=265, lrate=0.100, error=79.609\n",
            ">epoch=266, lrate=0.100, error=79.604\n",
            ">epoch=267, lrate=0.100, error=79.599\n",
            ">epoch=268, lrate=0.100, error=79.594\n",
            ">epoch=269, lrate=0.100, error=79.588\n",
            ">epoch=270, lrate=0.100, error=79.583\n",
            ">epoch=271, lrate=0.100, error=79.578\n",
            ">epoch=272, lrate=0.100, error=79.572\n",
            ">epoch=273, lrate=0.100, error=79.567\n",
            ">epoch=274, lrate=0.100, error=79.561\n",
            ">epoch=275, lrate=0.100, error=79.555\n",
            ">epoch=276, lrate=0.100, error=79.550\n",
            ">epoch=277, lrate=0.100, error=79.544\n",
            ">epoch=278, lrate=0.100, error=79.538\n",
            ">epoch=279, lrate=0.100, error=79.532\n",
            ">epoch=280, lrate=0.100, error=79.526\n",
            ">epoch=281, lrate=0.100, error=79.520\n",
            ">epoch=282, lrate=0.100, error=79.514\n",
            ">epoch=283, lrate=0.100, error=79.508\n",
            ">epoch=284, lrate=0.100, error=79.502\n",
            ">epoch=285, lrate=0.100, error=79.495\n",
            ">epoch=286, lrate=0.100, error=79.489\n",
            ">epoch=287, lrate=0.100, error=79.482\n",
            ">epoch=288, lrate=0.100, error=79.476\n",
            ">epoch=289, lrate=0.100, error=79.469\n",
            ">epoch=290, lrate=0.100, error=79.462\n",
            ">epoch=291, lrate=0.100, error=79.456\n",
            ">epoch=292, lrate=0.100, error=79.449\n",
            ">epoch=293, lrate=0.100, error=79.442\n",
            ">epoch=294, lrate=0.100, error=79.435\n",
            ">epoch=295, lrate=0.100, error=79.427\n",
            ">epoch=296, lrate=0.100, error=79.420\n",
            ">epoch=297, lrate=0.100, error=79.413\n",
            ">epoch=298, lrate=0.100, error=79.405\n",
            ">epoch=299, lrate=0.100, error=79.398\n",
            ">epoch=300, lrate=0.100, error=79.390\n",
            ">epoch=301, lrate=0.100, error=79.382\n",
            ">epoch=302, lrate=0.100, error=79.375\n",
            ">epoch=303, lrate=0.100, error=79.367\n",
            ">epoch=304, lrate=0.100, error=79.359\n",
            ">epoch=305, lrate=0.100, error=79.350\n",
            ">epoch=306, lrate=0.100, error=79.342\n",
            ">epoch=307, lrate=0.100, error=79.334\n",
            ">epoch=308, lrate=0.100, error=79.325\n",
            ">epoch=309, lrate=0.100, error=79.317\n",
            ">epoch=310, lrate=0.100, error=79.308\n",
            ">epoch=311, lrate=0.100, error=79.300\n",
            ">epoch=312, lrate=0.100, error=79.291\n",
            ">epoch=313, lrate=0.100, error=79.282\n",
            ">epoch=314, lrate=0.100, error=79.273\n",
            ">epoch=315, lrate=0.100, error=79.264\n",
            ">epoch=316, lrate=0.100, error=79.254\n",
            ">epoch=317, lrate=0.100, error=79.245\n",
            ">epoch=318, lrate=0.100, error=79.235\n",
            ">epoch=319, lrate=0.100, error=79.226\n",
            ">epoch=320, lrate=0.100, error=79.216\n",
            ">epoch=321, lrate=0.100, error=79.206\n",
            ">epoch=322, lrate=0.100, error=79.197\n",
            ">epoch=323, lrate=0.100, error=79.187\n",
            ">epoch=324, lrate=0.100, error=79.177\n",
            ">epoch=325, lrate=0.100, error=79.166\n",
            ">epoch=326, lrate=0.100, error=79.156\n",
            ">epoch=327, lrate=0.100, error=79.146\n",
            ">epoch=328, lrate=0.100, error=79.135\n",
            ">epoch=329, lrate=0.100, error=79.125\n",
            ">epoch=330, lrate=0.100, error=79.114\n",
            ">epoch=331, lrate=0.100, error=79.103\n",
            ">epoch=332, lrate=0.100, error=79.093\n",
            ">epoch=333, lrate=0.100, error=79.082\n",
            ">epoch=334, lrate=0.100, error=79.071\n",
            ">epoch=335, lrate=0.100, error=79.060\n",
            ">epoch=336, lrate=0.100, error=79.048\n",
            ">epoch=337, lrate=0.100, error=79.037\n",
            ">epoch=338, lrate=0.100, error=79.026\n",
            ">epoch=339, lrate=0.100, error=79.014\n",
            ">epoch=340, lrate=0.100, error=79.003\n",
            ">epoch=341, lrate=0.100, error=78.991\n",
            ">epoch=342, lrate=0.100, error=78.980\n",
            ">epoch=343, lrate=0.100, error=78.968\n",
            ">epoch=344, lrate=0.100, error=78.956\n",
            ">epoch=345, lrate=0.100, error=78.944\n",
            ">epoch=346, lrate=0.100, error=78.932\n",
            ">epoch=347, lrate=0.100, error=78.920\n",
            ">epoch=348, lrate=0.100, error=78.908\n",
            ">epoch=349, lrate=0.100, error=78.896\n",
            ">epoch=350, lrate=0.100, error=78.884\n",
            ">epoch=351, lrate=0.100, error=78.871\n",
            ">epoch=352, lrate=0.100, error=78.859\n",
            ">epoch=353, lrate=0.100, error=78.846\n",
            ">epoch=354, lrate=0.100, error=78.834\n",
            ">epoch=355, lrate=0.100, error=78.821\n",
            ">epoch=356, lrate=0.100, error=78.808\n",
            ">epoch=357, lrate=0.100, error=78.796\n",
            ">epoch=358, lrate=0.100, error=78.783\n",
            ">epoch=359, lrate=0.100, error=78.770\n",
            ">epoch=360, lrate=0.100, error=78.757\n",
            ">epoch=361, lrate=0.100, error=78.744\n",
            ">epoch=362, lrate=0.100, error=78.731\n",
            ">epoch=363, lrate=0.100, error=78.717\n",
            ">epoch=364, lrate=0.100, error=78.704\n",
            ">epoch=365, lrate=0.100, error=78.691\n",
            ">epoch=366, lrate=0.100, error=78.677\n",
            ">epoch=367, lrate=0.100, error=78.664\n",
            ">epoch=368, lrate=0.100, error=78.650\n",
            ">epoch=369, lrate=0.100, error=78.636\n",
            ">epoch=370, lrate=0.100, error=78.622\n",
            ">epoch=371, lrate=0.100, error=78.609\n",
            ">epoch=372, lrate=0.100, error=78.595\n",
            ">epoch=373, lrate=0.100, error=78.581\n",
            ">epoch=374, lrate=0.100, error=78.566\n",
            ">epoch=375, lrate=0.100, error=78.552\n",
            ">epoch=376, lrate=0.100, error=78.538\n",
            ">epoch=377, lrate=0.100, error=78.524\n",
            ">epoch=378, lrate=0.100, error=78.509\n",
            ">epoch=379, lrate=0.100, error=78.495\n",
            ">epoch=380, lrate=0.100, error=78.480\n",
            ">epoch=381, lrate=0.100, error=78.465\n",
            ">epoch=382, lrate=0.100, error=78.451\n",
            ">epoch=383, lrate=0.100, error=78.436\n",
            ">epoch=384, lrate=0.100, error=78.421\n",
            ">epoch=385, lrate=0.100, error=78.406\n",
            ">epoch=386, lrate=0.100, error=78.391\n",
            ">epoch=387, lrate=0.100, error=78.376\n",
            ">epoch=388, lrate=0.100, error=78.360\n",
            ">epoch=389, lrate=0.100, error=78.345\n",
            ">epoch=390, lrate=0.100, error=78.330\n",
            ">epoch=391, lrate=0.100, error=78.314\n",
            ">epoch=392, lrate=0.100, error=78.299\n",
            ">epoch=393, lrate=0.100, error=78.284\n",
            ">epoch=394, lrate=0.100, error=78.268\n",
            ">epoch=395, lrate=0.100, error=78.253\n",
            ">epoch=396, lrate=0.100, error=78.237\n",
            ">epoch=397, lrate=0.100, error=78.221\n",
            ">epoch=398, lrate=0.100, error=78.206\n",
            ">epoch=399, lrate=0.100, error=78.190\n",
            ">epoch=400, lrate=0.100, error=78.174\n",
            ">epoch=401, lrate=0.100, error=78.159\n",
            ">epoch=402, lrate=0.100, error=78.143\n",
            ">epoch=403, lrate=0.100, error=78.127\n",
            ">epoch=404, lrate=0.100, error=78.112\n",
            ">epoch=405, lrate=0.100, error=78.096\n",
            ">epoch=406, lrate=0.100, error=78.080\n",
            ">epoch=407, lrate=0.100, error=78.065\n",
            ">epoch=408, lrate=0.100, error=78.049\n",
            ">epoch=409, lrate=0.100, error=78.033\n",
            ">epoch=410, lrate=0.100, error=78.018\n",
            ">epoch=411, lrate=0.100, error=78.002\n",
            ">epoch=412, lrate=0.100, error=77.987\n",
            ">epoch=413, lrate=0.100, error=77.971\n",
            ">epoch=414, lrate=0.100, error=77.956\n",
            ">epoch=415, lrate=0.100, error=77.940\n",
            ">epoch=416, lrate=0.100, error=77.925\n",
            ">epoch=417, lrate=0.100, error=77.910\n",
            ">epoch=418, lrate=0.100, error=77.895\n",
            ">epoch=419, lrate=0.100, error=77.879\n",
            ">epoch=420, lrate=0.100, error=77.864\n",
            ">epoch=421, lrate=0.100, error=77.849\n",
            ">epoch=422, lrate=0.100, error=77.834\n",
            ">epoch=423, lrate=0.100, error=77.820\n",
            ">epoch=424, lrate=0.100, error=77.805\n",
            ">epoch=425, lrate=0.100, error=77.790\n",
            ">epoch=426, lrate=0.100, error=77.776\n",
            ">epoch=427, lrate=0.100, error=77.761\n",
            ">epoch=428, lrate=0.100, error=77.747\n",
            ">epoch=429, lrate=0.100, error=77.733\n",
            ">epoch=430, lrate=0.100, error=77.718\n",
            ">epoch=431, lrate=0.100, error=77.704\n",
            ">epoch=432, lrate=0.100, error=77.690\n",
            ">epoch=433, lrate=0.100, error=77.677\n",
            ">epoch=434, lrate=0.100, error=77.663\n",
            ">epoch=435, lrate=0.100, error=77.649\n",
            ">epoch=436, lrate=0.100, error=77.636\n",
            ">epoch=437, lrate=0.100, error=77.622\n",
            ">epoch=438, lrate=0.100, error=77.609\n",
            ">epoch=439, lrate=0.100, error=77.596\n",
            ">epoch=440, lrate=0.100, error=77.583\n",
            ">epoch=441, lrate=0.100, error=77.570\n",
            ">epoch=442, lrate=0.100, error=77.557\n",
            ">epoch=443, lrate=0.100, error=77.544\n",
            ">epoch=444, lrate=0.100, error=77.532\n",
            ">epoch=445, lrate=0.100, error=77.519\n",
            ">epoch=446, lrate=0.100, error=77.507\n",
            ">epoch=447, lrate=0.100, error=77.495\n",
            ">epoch=448, lrate=0.100, error=77.482\n",
            ">epoch=449, lrate=0.100, error=77.470\n",
            ">epoch=450, lrate=0.100, error=77.458\n",
            ">epoch=451, lrate=0.100, error=77.447\n",
            ">epoch=452, lrate=0.100, error=77.435\n",
            ">epoch=453, lrate=0.100, error=77.423\n",
            ">epoch=454, lrate=0.100, error=77.412\n",
            ">epoch=455, lrate=0.100, error=77.401\n",
            ">epoch=456, lrate=0.100, error=77.389\n",
            ">epoch=457, lrate=0.100, error=77.378\n",
            ">epoch=458, lrate=0.100, error=77.367\n",
            ">epoch=459, lrate=0.100, error=77.357\n",
            ">epoch=460, lrate=0.100, error=77.346\n",
            ">epoch=461, lrate=0.100, error=77.335\n",
            ">epoch=462, lrate=0.100, error=77.325\n",
            ">epoch=463, lrate=0.100, error=77.314\n",
            ">epoch=464, lrate=0.100, error=77.304\n",
            ">epoch=465, lrate=0.100, error=77.293\n",
            ">epoch=466, lrate=0.100, error=77.283\n",
            ">epoch=467, lrate=0.100, error=77.273\n",
            ">epoch=468, lrate=0.100, error=77.263\n",
            ">epoch=469, lrate=0.100, error=77.254\n",
            ">epoch=470, lrate=0.100, error=77.244\n",
            ">epoch=471, lrate=0.100, error=77.234\n",
            ">epoch=472, lrate=0.100, error=77.225\n",
            ">epoch=473, lrate=0.100, error=77.215\n",
            ">epoch=474, lrate=0.100, error=77.206\n",
            ">epoch=475, lrate=0.100, error=77.196\n",
            ">epoch=476, lrate=0.100, error=77.187\n",
            ">epoch=477, lrate=0.100, error=77.178\n",
            ">epoch=478, lrate=0.100, error=77.169\n",
            ">epoch=479, lrate=0.100, error=77.160\n",
            ">epoch=480, lrate=0.100, error=77.151\n",
            ">epoch=481, lrate=0.100, error=77.143\n",
            ">epoch=482, lrate=0.100, error=77.134\n",
            ">epoch=483, lrate=0.100, error=77.125\n",
            ">epoch=484, lrate=0.100, error=77.117\n",
            ">epoch=485, lrate=0.100, error=77.108\n",
            ">epoch=486, lrate=0.100, error=77.100\n",
            ">epoch=487, lrate=0.100, error=77.092\n",
            ">epoch=488, lrate=0.100, error=77.083\n",
            ">epoch=489, lrate=0.100, error=77.075\n",
            ">epoch=490, lrate=0.100, error=77.067\n",
            ">epoch=491, lrate=0.100, error=77.059\n",
            ">epoch=492, lrate=0.100, error=77.051\n",
            ">epoch=493, lrate=0.100, error=77.043\n",
            ">epoch=494, lrate=0.100, error=77.036\n",
            ">epoch=495, lrate=0.100, error=77.028\n",
            ">epoch=496, lrate=0.100, error=77.020\n",
            ">epoch=497, lrate=0.100, error=77.012\n",
            ">epoch=498, lrate=0.100, error=77.005\n",
            ">epoch=499, lrate=0.100, error=76.997\n"
          ],
          "name": "stdout"
        },
        {
          "output_type": "execute_result",
          "data": {
            "text/plain": [
              "[0.42760592714755524,\n",
              " 0.713845082881862,\n",
              " 0.3706660628708486,\n",
              " 0.4979389406338676,\n",
              " 0.1940397393824738,\n",
              " 0.3755320184225347,\n",
              " 0.6124345678020895,\n",
              " 0.31553542378703475,\n",
              " 0.5303264349823416,\n",
              " 0.20585818231389463]"
            ]
          },
          "metadata": {
            "tags": []
          },
          "execution_count": 19
        }
      ]
    },
    {
      "cell_type": "code",
      "metadata": {
        "colab": {
          "base_uri": "https://localhost:8080/"
        },
        "id": "sPGPLahR5qfZ",
        "outputId": "36e2b5c2-6419-4545-e97a-10ed6fcd0d60"
      },
      "source": [
        "nn_actual = [row[-1] for row in test]\n",
        "nn_actual[:10]"
      ],
      "execution_count": null,
      "outputs": [
        {
          "output_type": "execute_result",
          "data": {
            "text/plain": [
              "[0.5, 0.72, 0.33, 0.5, 0.29, 0.38, 0.57, 0.33, 0.47, 0.27]"
            ]
          },
          "metadata": {
            "tags": []
          },
          "execution_count": 20
        }
      ]
    },
    {
      "cell_type": "code",
      "metadata": {
        "colab": {
          "base_uri": "https://localhost:8080/"
        },
        "id": "02ZGzt4vHl9b",
        "outputId": "1f19b0e9-4392-4f6d-caa3-7f8b22f94629"
      },
      "source": [
        "r2_score(nn_actual, nn_pred)"
      ],
      "execution_count": null,
      "outputs": [
        {
          "output_type": "execute_result",
          "data": {
            "text/plain": [
              "0.8740469963484347"
            ]
          },
          "metadata": {
            "tags": []
          },
          "execution_count": 21
        }
      ]
    },
    {
      "cell_type": "code",
      "metadata": {
        "colab": {
          "base_uri": "https://localhost:8080/"
        },
        "id": "n06A8pqPtIU8",
        "outputId": "f3d23132-3025-4c2d-e4ef-3043efe77d0f"
      },
      "source": [
        "models['neural_network'] = r2_score(nn_actual, nn_pred)\n",
        "models"
      ],
      "execution_count": null,
      "outputs": [
        {
          "output_type": "execute_result",
          "data": {
            "text/plain": [
              "{'neural_network': 0.8740469963484347}"
            ]
          },
          "metadata": {
            "tags": []
          },
          "execution_count": 22
        }
      ]
    },
    {
      "cell_type": "code",
      "metadata": {
        "id": "kDcGstLuKNnS"
      },
      "source": [
        "# # evaluate algorithm\n",
        "# n_folds = 5\n",
        "# l_rate = 0.1\n",
        "# n_epoch = 500\n",
        "# n_hidden = 10\n",
        "# scores = evaluate_algorithm(df_list, back_propagation, n_folds, r2_score, l_rate, n_epoch, n_hidden)"
      ],
      "execution_count": null,
      "outputs": []
    },
    {
      "cell_type": "code",
      "metadata": {
        "colab": {
          "base_uri": "https://localhost:8080/"
        },
        "id": "kvmfrAA-1QSj",
        "outputId": "1a67fd41-eaf8-4077-e057-9ef46391d1ae"
      },
      "source": [
        "# print('Scores: %s' % scores)\n",
        "# print('Mean R-squared: %.5f%%' % (sum(scores)/float(len(scores))))"
      ],
      "execution_count": null,
      "outputs": [
        {
          "output_type": "stream",
          "text": [
            "Scores: [0.8700845435906673, 0.8767244969932879, 0.8775708150782141, 0.8810502760032857, 0.8779670646760577]\n",
            "Mean R-squared: 0.87668%\n"
          ],
          "name": "stdout"
        }
      ]
    },
    {
      "cell_type": "markdown",
      "metadata": {
        "id": "hQHxEHKOIiBp"
      },
      "source": [
        "<h2> Decision Tree"
      ]
    },
    {
      "cell_type": "code",
      "metadata": {
        "id": "G5Z79io_Ikh6"
      },
      "source": [
        "# get functions from trees.py.py in colab\n",
        "# if wanna edit hv to edit in trees.py.py\n",
        "# this one's for both decision tree and random forest\n",
        "\n",
        "#colab file path\n",
        "%run '/content/model/trees.py'"
      ],
      "execution_count": null,
      "outputs": []
    },
    {
      "cell_type": "code",
      "metadata": {
        "colab": {
          "base_uri": "https://localhost:8080/"
        },
        "id": "Uwqc632A72E4",
        "outputId": "a72b57fc-0ee4-44e1-e637-62bebecba0ec"
      },
      "source": [
        "dt_regressor = DecisionTreeRegressor(min_samples_split=3, max_depth=3)\n",
        "dt_regressor.fit(train_X.values, train_y.values.reshape(-1,1))\n",
        "dt_regressor.print_tree()"
      ],
      "execution_count": null,
      "outputs": [
        {
          "output_type": "stream",
          "text": [
            "X_5 <= 0.55 ? 0.01931805570997466\n",
            " left:X_5 <= 0.36 ? 0.008160338460502072\n",
            "  left:X_5 <= 0.21000000000000002 ? 0.004052037936505394\n",
            "    left:X_5 <= 0.1 ? 0.0015595311485163282\n",
            "        left:0.013195876288659793\n",
            "        right:0.09236526946107784\n",
            "    right:X_5 <= 0.29 ? 0.00092386402530902\n",
            "        left:0.15344488188976382\n",
            "        right:0.21581772784019976\n",
            "  right:X_5 <= 0.45999999999999996 ? 0.0018630453126515754\n",
            "    left:X_4 <= 0.1111111111111111 ? 0.0006775371269056914\n",
            "        left:0.2543523316062176\n",
            "        right:0.3096489726027397\n",
            "    right:X_4 <= 0.1111111111111111 ? 0.00047756501583410063\n",
            "        left:0.3228382838283828\n",
            "        right:0.3869631901840491\n",
            " right:X_5 <= 0.73 ? 0.00930161245388372\n",
            "  left:X_4 <= 0.3333333333333333 ? 0.004003930232878077\n",
            "    left:X_4 <= 0.0 ? 0.003651199390964111\n",
            "        left:0.13528301886792454\n",
            "        right:0.43088793103448275\n",
            "    right:X_4 <= 0.5555555555555556 ? 0.0016963057582594452\n",
            "        left:0.5266656071201526\n",
            "        right:0.6257285873192435\n",
            "  right:X_5 <= 0.8400000000000001 ? 0.004888008362040189\n",
            "    left:X_4 <= 0.6666666666666666 ? 0.0012885862703879893\n",
            "        left:0.6451509054325956\n",
            "        right:0.7356906077348067\n",
            "    right:X_5 <= 0.9 ? 0.0030764385827925077\n",
            "        left:0.7638945233265719\n",
            "        right:0.875748031496063\n"
          ],
          "name": "stdout"
        }
      ]
    },
    {
      "cell_type": "code",
      "metadata": {
        "colab": {
          "base_uri": "https://localhost:8080/"
        },
        "id": "AtcO4FJdRr8k",
        "outputId": "1f8a93bd-be4a-4465-ba8d-7b4256d094f6"
      },
      "source": [
        "dt_regressor.make_prediction(test_X.values[0], dt_regressor.root)"
      ],
      "execution_count": null,
      "outputs": [
        {
          "output_type": "execute_result",
          "data": {
            "text/plain": [
              "0.3869631901840491"
            ]
          },
          "metadata": {
            "tags": []
          },
          "execution_count": 27
        }
      ]
    },
    {
      "cell_type": "code",
      "metadata": {
        "colab": {
          "base_uri": "https://localhost:8080/"
        },
        "id": "kxXby3ez9W5m",
        "outputId": "0f92da27-b433-4297-9295-098d3991df09"
      },
      "source": [
        "dt_pred = dt_regressor.predict(test_X.values)\n",
        "dt_pred[:10]"
      ],
      "execution_count": null,
      "outputs": [
        {
          "output_type": "execute_result",
          "data": {
            "text/plain": [
              "[0.3869631901840491,\n",
              " 0.7638945233265719,\n",
              " 0.43088793103448275,\n",
              " 0.5266656071201526,\n",
              " 0.21581772784019976,\n",
              " 0.43088793103448275,\n",
              " 0.5266656071201526,\n",
              " 0.3228382838283828,\n",
              " 0.5266656071201526,\n",
              " 0.2543523316062176]"
            ]
          },
          "metadata": {
            "tags": []
          },
          "execution_count": 28
        }
      ]
    },
    {
      "cell_type": "code",
      "metadata": {
        "colab": {
          "base_uri": "https://localhost:8080/"
        },
        "id": "hNwSOSah9vgW",
        "outputId": "ef23d1b5-6f6f-4f4d-d333-480bafa14f40"
      },
      "source": [
        "dt_actual = test_y.tolist()\n",
        "dt_actual[:10]"
      ],
      "execution_count": null,
      "outputs": [
        {
          "output_type": "execute_result",
          "data": {
            "text/plain": [
              "[0.5, 0.72, 0.33, 0.5, 0.29, 0.38, 0.57, 0.33, 0.47, 0.27]"
            ]
          },
          "metadata": {
            "tags": []
          },
          "execution_count": 29
        }
      ]
    },
    {
      "cell_type": "code",
      "metadata": {
        "colab": {
          "base_uri": "https://localhost:8080/"
        },
        "id": "PTLxX4Wi95j5",
        "outputId": "911811ba-573d-40a5-862d-eb8d647afe94"
      },
      "source": [
        "r2_score(dt_actual, dt_pred)"
      ],
      "execution_count": null,
      "outputs": [
        {
          "output_type": "execute_result",
          "data": {
            "text/plain": [
              "0.8548425811720769"
            ]
          },
          "metadata": {
            "tags": []
          },
          "execution_count": 30
        }
      ]
    },
    {
      "cell_type": "code",
      "metadata": {
        "colab": {
          "base_uri": "https://localhost:8080/"
        },
        "id": "68rdlKu5-COf",
        "outputId": "8a9f953f-c50f-4af0-e9f5-861db59ffe6b"
      },
      "source": [
        "models['decision_tree'] = r2_score(dt_actual, dt_pred)\n",
        "models"
      ],
      "execution_count": null,
      "outputs": [
        {
          "output_type": "execute_result",
          "data": {
            "text/plain": [
              "{'decision_tree': 0.8548425811720769, 'neural_network': 0.8740469963484347}"
            ]
          },
          "metadata": {
            "tags": []
          },
          "execution_count": 31
        }
      ]
    },
    {
      "cell_type": "markdown",
      "metadata": {
        "id": "lG_EUwUiIlQz"
      },
      "source": [
        "<h2> Random forest"
      ]
    },
    {
      "cell_type": "code",
      "metadata": {
        "id": "uuLhBSFAbncJ"
      },
      "source": [
        "# get functions from trees.py.py in colab\n",
        "# if wanna edit hv to edit in trees.py.py\n",
        "# this one's for both decision tree and random forest\n",
        "\n",
        "#colab file path\n",
        "%run '/content/model/trees.py'"
      ],
      "execution_count": null,
      "outputs": []
    },
    {
      "cell_type": "code",
      "metadata": {
        "colab": {
          "base_uri": "https://localhost:8080/"
        },
        "id": "UFtXER2izdtQ",
        "outputId": "7a8727d8-f0d4-47a1-c5fa-1d960ba5cdaf"
      },
      "source": [
        "rf_pred = random_forest_regression(\n",
        "    X=train_X,\n",
        "    y=train_y,\n",
        "    test_X=test_X,\n",
        "    n_trees=10,\n",
        "    # n_features=int(train_X.shape[1]/2),\n",
        "    n_features=train_X.shape[1]-2,\n",
        "    sample_sz=len(train_X)\n",
        ")\n",
        "print()\n",
        "print('rf_pred')\n",
        "rf_pred[:10]"
      ],
      "execution_count": null,
      "outputs": [
        {
          "output_type": "stream",
          "text": [
            "for_checking\n",
            "[0.48061971830985917, 0.48061971830985917, 0.43567676767676766, 0.48061971830985917, 0.43567676767676766]\n",
            "[0.4192857142857143, 0.6000000000000001, 0.4625921299188008, 0.8, 0.46054285714285714]\n",
            "[0.44274052478134107, 0.44274052478134107, 0.89, 0.4649585062240664, 0.89]\n",
            "[0.4582354290959155, 0.40815999999999997, 0.4561046511627907, 0.4582354290959155, 0.44759155394259326]\n",
            "[0.44652986590816734, 0.37885714285714284, 0.45115107913669067, 0.37885714285714284, 0.4468403074295474]\n",
            "[0.46426788685524123, 0.4532817869415808, 0.4533333333333334, 0.4532817869415808, 0.4326315789473684]\n",
            "[0.4428178694158076, 0.4428178694158076, 0.46052173913043487, 0.32249999999999995, 0.4711585365853659]\n",
            "[0.45329756952047295, 0.45329756952047295, 0.45717223650385597, 0.45329756952047295, 0.4840384615384615]\n",
            "[0.45130717399920733, 0.4365533980582524, 0.45130717399920733, 0.45130717399920733, 0.4231690140845071]\n",
            "[0.42870370370370375, 0.28125, 0.44127102803738316, 0.45118952760387027, 0.44475018102824043]\n",
            "\n",
            "rf_pred\n"
          ],
          "name": "stdout"
        },
        {
          "output_type": "execute_result",
          "data": {
            "text/plain": [
              "[0.44878054558754304,\n",
              " 0.43775780098844574,\n",
              " 0.49591301388992653,\n",
              " 0.47142468545521155,\n",
              " 0.4936399258375709,\n",
              " 0.44795392955075874,\n",
              " 0.4604933077565068,\n",
              " 0.45836853418003554,\n",
              " 0.4454937841701955,\n",
              " 0.44996993259549384]"
            ]
          },
          "metadata": {
            "tags": []
          },
          "execution_count": 33
        }
      ]
    },
    {
      "cell_type": "code",
      "metadata": {
        "colab": {
          "base_uri": "https://localhost:8080/"
        },
        "id": "w4Qt3LO137z8",
        "outputId": "71d451d9-b770-4e81-8657-828c6ce7dd58"
      },
      "source": [
        "rf_actual = test_y.tolist()\n",
        "rf_actual[:10]"
      ],
      "execution_count": null,
      "outputs": [
        {
          "output_type": "execute_result",
          "data": {
            "text/plain": [
              "[0.5, 0.72, 0.33, 0.5, 0.29, 0.38, 0.57, 0.33, 0.47, 0.27]"
            ]
          },
          "metadata": {
            "tags": []
          },
          "execution_count": 35
        }
      ]
    },
    {
      "cell_type": "code",
      "metadata": {
        "colab": {
          "base_uri": "https://localhost:8080/"
        },
        "id": "B3-Bgmyf4l4b",
        "outputId": "384efb8e-ac79-4e8d-a496-67204116917c"
      },
      "source": [
        "r2_score(rf_actual, rf_pred)"
      ],
      "execution_count": null,
      "outputs": [
        {
          "output_type": "execute_result",
          "data": {
            "text/plain": [
              "0.018040838428069694"
            ]
          },
          "metadata": {
            "tags": []
          },
          "execution_count": 36
        }
      ]
    },
    {
      "cell_type": "code",
      "metadata": {
        "colab": {
          "base_uri": "https://localhost:8080/"
        },
        "id": "7rTJgtlZ6uaY",
        "outputId": "be2c8fd0-390b-4686-b847-7a458cff8856"
      },
      "source": [
        "models['random_forest'] = r2_score(rf_actual, rf_pred)\n",
        "models"
      ],
      "execution_count": null,
      "outputs": [
        {
          "output_type": "execute_result",
          "data": {
            "text/plain": [
              "{'decision_tree': 0.8548425811720769,\n",
              " 'neural_network': 0.8740469963484347,\n",
              " 'random_forest': 0.018040838428069694}"
            ]
          },
          "metadata": {
            "tags": []
          },
          "execution_count": 37
        }
      ]
    },
    {
      "cell_type": "markdown",
      "metadata": {
        "id": "UmkeML9xJh-p"
      },
      "source": [
        "<h2> Multivariate Linear regression"
      ]
    },
    {
      "cell_type": "code",
      "metadata": {
        "id": "REfZXHoCbyQE"
      },
      "source": [
        "# get functions from multivariate_linear_regression.py in colab\n",
        "# if wanna edit hv to edit in multivariate_linear_regression.py\n",
        "\n",
        "#colab file path\n",
        "%run '/content/model/multivariate_linear_regression.py'\n",
        "## import compute_cost(X, y, theta)\n",
        "## import gradient_descent(X, y, theta, alpha, iterations)\n",
        "## import mlr_predict(X_test, test_theta)"
      ],
      "execution_count": null,
      "outputs": []
    },
    {
      "cell_type": "code",
      "metadata": {
        "colab": {
          "base_uri": "https://localhost:8080/"
        },
        "id": "zLtsj98hYqJC",
        "outputId": "e3fe8609-5697-483e-e68c-906e8b7796c8"
      },
      "source": [
        "mlr_train_X = train_X.values\n",
        "mlr_train_y = train_y.values\n",
        "m = len(mlr_train_y)\n",
        "\n",
        "mlr_train_X = np.hstack((np.ones((m,1)), mlr_train_X ))\n",
        "\n",
        "#set hyper parameter\n",
        "theta = np.zeros(mlr_train_X.shape[1])\n",
        "iterations = 500;\n",
        "alpha = 0.15;\n",
        "\n",
        "mlr_train_X[:2]"
      ],
      "execution_count": null,
      "outputs": [
        {
          "output_type": "execute_result",
          "data": {
            "text/plain": [
              "array([[1.        , 0.        , 1.        , 0.        , 0.4       ,\n",
              "        0.22222222, 0.38      , 0.72727273, 0.96666667],\n",
              "       [1.        , 1.        , 1.        , 1.        , 0.2       ,\n",
              "        0.11111111, 0.5       , 0.90909091, 0.96666667]])"
            ]
          },
          "metadata": {
            "tags": []
          },
          "execution_count": 39
        }
      ]
    },
    {
      "cell_type": "code",
      "metadata": {
        "id": "ajZjndrNcYvt"
      },
      "source": [
        "theta, cost_history = gradient_descent(mlr_train_X, mlr_train_y, theta, alpha, iterations, m)"
      ],
      "execution_count": null,
      "outputs": []
    },
    {
      "cell_type": "code",
      "metadata": {
        "colab": {
          "base_uri": "https://localhost:8080/"
        },
        "id": "tQb9InFKgjMw",
        "outputId": "cfaa33ad-5ff7-4b6d-8dd3-8b5d310894c9"
      },
      "source": [
        "theta"
      ],
      "execution_count": null,
      "outputs": [
        {
          "output_type": "execute_result",
          "data": {
            "text/plain": [
              "array([ 0.01334058,  0.00755556, -0.00225272, -0.02598834,  0.13748359,\n",
              "        0.28889586,  0.49992708, -0.0061641 , -0.00779286])"
            ]
          },
          "metadata": {
            "tags": []
          },
          "execution_count": 41
        }
      ]
    },
    {
      "cell_type": "code",
      "metadata": {
        "colab": {
          "base_uri": "https://localhost:8080/"
        },
        "id": "FQgu2cUbYhIT",
        "outputId": "9ea980be-8493-4ad2-cb24-e167288faaae"
      },
      "source": [
        "mlr_pred = mlr_predict(test_X.values, theta)\n",
        "mlr_pred[:10]"
      ],
      "execution_count": null,
      "outputs": [
        {
          "output_type": "execute_result",
          "data": {
            "text/plain": [
              "[0.45886785811762837,\n",
              " 0.6429657558323985,\n",
              " 0.35997388795650026,\n",
              " 0.4849821273847978,\n",
              " 0.21859201538658976,\n",
              " 0.36291769724795714,\n",
              " 0.6115588844351285,\n",
              " 0.2843981873508097,\n",
              " 0.5250984351071315,\n",
              " 0.19372167076521235]"
            ]
          },
          "metadata": {
            "tags": []
          },
          "execution_count": 42
        }
      ]
    },
    {
      "cell_type": "code",
      "metadata": {
        "colab": {
          "base_uri": "https://localhost:8080/"
        },
        "id": "h-9DwmH06ams",
        "outputId": "f267331e-f2e7-4c5e-81b1-668c3b2b79bd"
      },
      "source": [
        "mlr_actual = test_y.tolist()\n",
        "mlr_actual[:10]"
      ],
      "execution_count": null,
      "outputs": [
        {
          "output_type": "execute_result",
          "data": {
            "text/plain": [
              "[0.5, 0.72, 0.33, 0.5, 0.29, 0.38, 0.57, 0.33, 0.47, 0.27]"
            ]
          },
          "metadata": {
            "tags": []
          },
          "execution_count": 43
        }
      ]
    },
    {
      "cell_type": "code",
      "metadata": {
        "colab": {
          "base_uri": "https://localhost:8080/"
        },
        "id": "qt2zHpZ569aV",
        "outputId": "cdf8ee99-5c0b-48d1-c195-6f513e66fe58"
      },
      "source": [
        "r2_score(mlr_actual, mlr_pred)"
      ],
      "execution_count": null,
      "outputs": [
        {
          "output_type": "execute_result",
          "data": {
            "text/plain": [
              "0.8592937834473675"
            ]
          },
          "metadata": {
            "tags": []
          },
          "execution_count": 44
        }
      ]
    },
    {
      "cell_type": "code",
      "metadata": {
        "colab": {
          "base_uri": "https://localhost:8080/"
        },
        "id": "L28shnsx7BeS",
        "outputId": "8c48d040-345f-49b2-dee6-890982c8afff"
      },
      "source": [
        "models['multivariate_linear_regression'] = r2_score(mlr_actual, mlr_pred)\n",
        "models"
      ],
      "execution_count": null,
      "outputs": [
        {
          "output_type": "execute_result",
          "data": {
            "text/plain": [
              "{'decision_tree': 0.8548425811720769,\n",
              " 'multivariate_linear_regression': 0.8592937834473675,\n",
              " 'neural_network': 0.8740469963484347,\n",
              " 'random_forest': 0.018040838428069694}"
            ]
          },
          "metadata": {
            "tags": []
          },
          "execution_count": 45
        }
      ]
    },
    {
      "cell_type": "markdown",
      "metadata": {
        "id": "kE8qF4aE_XKI"
      },
      "source": [
        "**<h1> Summary with R2-score**"
      ]
    },
    {
      "cell_type": "code",
      "metadata": {
        "colab": {
          "base_uri": "https://localhost:8080/"
        },
        "id": "75MyXUC3_mV_",
        "outputId": "fa257173-0e93-4ead-d373-563cd21bb37c"
      },
      "source": [
        "models"
      ],
      "execution_count": null,
      "outputs": [
        {
          "output_type": "execute_result",
          "data": {
            "text/plain": [
              "{'decision_tree': 0.8548425811720769,\n",
              " 'multivariate_linear_regression': 0.8592937834473675,\n",
              " 'neural_network': 0.8740469963484347,\n",
              " 'random_forest': 0.018040838428069694}"
            ]
          },
          "metadata": {
            "tags": []
          },
          "execution_count": 46
        }
      ]
    },
    {
      "cell_type": "markdown",
      "metadata": {
        "id": "kYSItGRRNjxh"
      },
      "source": [
        "<h2> Neural Network has the best r2-score among other models"
      ]
    }
  ]
}